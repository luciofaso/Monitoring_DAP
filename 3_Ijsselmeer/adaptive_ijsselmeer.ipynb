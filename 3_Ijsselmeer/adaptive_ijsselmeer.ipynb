{
 "cells": [
  {
   "cell_type": "markdown",
   "metadata": {
    "deletable": true,
    "editable": true
   },
   "source": [
    "# Adaptive - Ijsselmeer\n",
    "\n",
    "Author: Luciano Raso, Delft University of Technology, Delft, The Netherlands. Section of Policy Analysis  \n",
    "email: l.raso@tudelft.nl"
   ]
  },
  {
   "cell_type": "code",
   "execution_count": 1,
   "metadata": {
    "collapsed": false,
    "deletable": true,
    "editable": true
   },
   "outputs": [
    {
     "name": "stdout",
     "output_type": "stream",
     "text": [
      "/Users/lraso/Documents/working directories/Monitoring_for_DAPP/Experiments\n"
     ]
    }
   ],
   "source": [
    "cd .."
   ]
  },
  {
   "cell_type": "code",
   "execution_count": 2,
   "metadata": {
    "collapsed": true,
    "deletable": true,
    "editable": true
   },
   "outputs": [],
   "source": [
    "import pandas as pd\n",
    "import numpy as np\n",
    "import matplotlib.pyplot as plt\n",
    "from matplotlib.pyplot import cm\n",
    "import seaborn as sns\n",
    "import ast\n",
    "from pathways.pathways import get_policy_def, find_pathway\n",
    "from ema_workbench import load_results\n",
    "import collections\n",
    "\n",
    "plt.style.use('default')\n",
    "%matplotlib inline\n",
    "%config InlineBackend.figure_format = 'retina'\n",
    "from IPython.core.interactiveshell import InteractiveShell\n",
    "InteractiveShell.ast_node_interactivity = \"all\""
   ]
  },
  {
   "cell_type": "markdown",
   "metadata": {
    "deletable": true,
    "editable": true
   },
   "source": [
    "#### Load data"
   ]
  },
  {
   "cell_type": "code",
   "execution_count": 3,
   "metadata": {
    "collapsed": false,
    "deletable": true,
    "editable": true
   },
   "outputs": [
    {
     "data": {
      "text/plain": [
       "2744"
      ]
     },
     "execution_count": 3,
     "metadata": {},
     "output_type": "execute_result"
    },
    {
     "data": {
      "text/html": [
       "<div>\n",
       "<style scoped>\n",
       "    .dataframe tbody tr th:only-of-type {\n",
       "        vertical-align: middle;\n",
       "    }\n",
       "\n",
       "    .dataframe tbody tr th {\n",
       "        vertical-align: top;\n",
       "    }\n",
       "\n",
       "    .dataframe thead th {\n",
       "        text-align: right;\n",
       "    }\n",
       "</style>\n",
       "<table border=\"1\" class=\"dataframe\">\n",
       "  <thead>\n",
       "    <tr style=\"text-align: right;\">\n",
       "      <th></th>\n",
       "      <th>low_flow_shift</th>\n",
       "      <th>peak_inflow_multiplier</th>\n",
       "      <th>sea_level_shift</th>\n",
       "      <th>pump_capacity</th>\n",
       "      <th>sluices_widening</th>\n",
       "      <th>summer_target</th>\n",
       "      <th>scenario_id</th>\n",
       "      <th>policy</th>\n",
       "      <th>model</th>\n",
       "      <th>demand deficit relative</th>\n",
       "      <th>dike failure frequency</th>\n",
       "    </tr>\n",
       "  </thead>\n",
       "  <tbody>\n",
       "    <tr>\n",
       "      <th>0</th>\n",
       "      <td>0.0</td>\n",
       "      <td>1.0</td>\n",
       "      <td>0.000000</td>\n",
       "      <td>0</td>\n",
       "      <td>1</td>\n",
       "      <td>-0.2</td>\n",
       "      <td>0</td>\n",
       "      <td>{'pump_capacity': 0, 'summer_target': -0.2, 's...</td>\n",
       "      <td>Ijsselmeer</td>\n",
       "      <td>0.014309</td>\n",
       "      <td>3714.848248</td>\n",
       "    </tr>\n",
       "    <tr>\n",
       "      <th>1</th>\n",
       "      <td>0.0</td>\n",
       "      <td>1.0</td>\n",
       "      <td>0.166667</td>\n",
       "      <td>0</td>\n",
       "      <td>1</td>\n",
       "      <td>-0.2</td>\n",
       "      <td>1</td>\n",
       "      <td>{'pump_capacity': 0, 'summer_target': -0.2, 's...</td>\n",
       "      <td>Ijsselmeer</td>\n",
       "      <td>0.014309</td>\n",
       "      <td>3009.328920</td>\n",
       "    </tr>\n",
       "    <tr>\n",
       "      <th>2</th>\n",
       "      <td>0.0</td>\n",
       "      <td>1.0</td>\n",
       "      <td>0.333333</td>\n",
       "      <td>0</td>\n",
       "      <td>1</td>\n",
       "      <td>-0.2</td>\n",
       "      <td>2</td>\n",
       "      <td>{'pump_capacity': 0, 'summer_target': -0.2, 's...</td>\n",
       "      <td>Ijsselmeer</td>\n",
       "      <td>0.014309</td>\n",
       "      <td>2034.670790</td>\n",
       "    </tr>\n",
       "    <tr>\n",
       "      <th>3</th>\n",
       "      <td>0.0</td>\n",
       "      <td>1.0</td>\n",
       "      <td>0.500000</td>\n",
       "      <td>0</td>\n",
       "      <td>1</td>\n",
       "      <td>-0.2</td>\n",
       "      <td>3</td>\n",
       "      <td>{'pump_capacity': 0, 'summer_target': -0.2, 's...</td>\n",
       "      <td>Ijsselmeer</td>\n",
       "      <td>0.014201</td>\n",
       "      <td>1488.848525</td>\n",
       "    </tr>\n",
       "    <tr>\n",
       "      <th>4</th>\n",
       "      <td>0.0</td>\n",
       "      <td>1.0</td>\n",
       "      <td>0.666667</td>\n",
       "      <td>0</td>\n",
       "      <td>1</td>\n",
       "      <td>-0.2</td>\n",
       "      <td>4</td>\n",
       "      <td>{'pump_capacity': 0, 'summer_target': -0.2, 's...</td>\n",
       "      <td>Ijsselmeer</td>\n",
       "      <td>0.014001</td>\n",
       "      <td>1052.332495</td>\n",
       "    </tr>\n",
       "  </tbody>\n",
       "</table>\n",
       "</div>"
      ],
      "text/plain": [
       "   low_flow_shift  peak_inflow_multiplier  sea_level_shift  pump_capacity  \\\n",
       "0             0.0                     1.0         0.000000              0   \n",
       "1             0.0                     1.0         0.166667              0   \n",
       "2             0.0                     1.0         0.333333              0   \n",
       "3             0.0                     1.0         0.500000              0   \n",
       "4             0.0                     1.0         0.666667              0   \n",
       "\n",
       "   sluices_widening  summer_target  scenario_id  \\\n",
       "0                 1           -0.2            0   \n",
       "1                 1           -0.2            1   \n",
       "2                 1           -0.2            2   \n",
       "3                 1           -0.2            3   \n",
       "4                 1           -0.2            4   \n",
       "\n",
       "                                              policy       model  \\\n",
       "0  {'pump_capacity': 0, 'summer_target': -0.2, 's...  Ijsselmeer   \n",
       "1  {'pump_capacity': 0, 'summer_target': -0.2, 's...  Ijsselmeer   \n",
       "2  {'pump_capacity': 0, 'summer_target': -0.2, 's...  Ijsselmeer   \n",
       "3  {'pump_capacity': 0, 'summer_target': -0.2, 's...  Ijsselmeer   \n",
       "4  {'pump_capacity': 0, 'summer_target': -0.2, 's...  Ijsselmeer   \n",
       "\n",
       "   demand deficit relative  dike failure frequency  \n",
       "0                 0.014309             3714.848248  \n",
       "1                 0.014309             3009.328920  \n",
       "2                 0.014309             2034.670790  \n",
       "3                 0.014201             1488.848525  \n",
       "4                 0.014001             1052.332495  "
      ]
     },
     "execution_count": 3,
     "metadata": {},
     "output_type": "execute_result"
    }
   ],
   "source": [
    "# load data from EMA\n",
    "results_df = pd.read_csv('data/Ijsselmeer/2018_10_18_results.csv',index_col=0)\n",
    "len(results_df)\n",
    "results_df.head()"
   ]
  },
  {
   "cell_type": "markdown",
   "metadata": {
    "deletable": true,
    "editable": true
   },
   "source": [
    "### Specify policy dimensions"
   ]
  },
  {
   "cell_type": "code",
   "execution_count": 121,
   "metadata": {
    "collapsed": true,
    "deletable": true,
    "editable": true
   },
   "outputs": [],
   "source": [
    "actions_name = ['pump_capacity','sluices_widening','summer_target']\n",
    "critical_uncertainties = ['low_flow_shift', 'peak_inflow_multiplier', 'sea_level_shift']\n",
    "objectives = ['dike failure frequency','demand deficit relative']"
   ]
  },
  {
   "cell_type": "code",
   "execution_count": 130,
   "metadata": {
    "collapsed": true,
    "deletable": true,
    "editable": true
   },
   "outputs": [],
   "source": [
    "color_list = ['clMaroon','clNavy','clOlive','clGreen','clPurple','clOrange','clYellow']\n",
    "actions = []\n",
    "for i, action_name in enumerate(actions_name):\n",
    "    actions.append({'name':action_name, \n",
    "                    'caption': action_name, \n",
    "                    'color': color_list[i],\n",
    "                    'predecessor':'current_situation'}) \n",
    "\n",
    "decreasing_actions = []#['winter_target'] # list actions whose effectiveness increase with decreasing of action value, default increasing\n",
    "for action in actions:\n",
    "    direction = -1 if action in decreasing_actions else 1\n",
    "    action['values'] = np.sort(results_df[action['name']].unique())[::direction].tolist()"
   ]
  },
  {
   "cell_type": "code",
   "execution_count": 131,
   "metadata": {
    "collapsed": false,
    "deletable": true,
    "editable": true
   },
   "outputs": [
    {
     "data": {
      "text/plain": [
       "[{'caption': 'pump_capacity',\n",
       "  'color': 'clMaroon',\n",
       "  'name': 'pump_capacity',\n",
       "  'predecessor': 'current_situation',\n",
       "  'values': [0, 500]},\n",
       " {'caption': 'sluices_widening',\n",
       "  'color': 'clNavy',\n",
       "  'name': 'sluices_widening',\n",
       "  'predecessor': 'current_situation',\n",
       "  'values': [1, 2]},\n",
       " {'caption': 'summer_target',\n",
       "  'color': 'clOlive',\n",
       "  'name': 'summer_target',\n",
       "  'predecessor': 'current_situation',\n",
       "  'values': [-0.2, 0.2]}]"
      ]
     },
     "execution_count": 131,
     "metadata": {},
     "output_type": "execute_result"
    }
   ],
   "source": [
    "actions\n"
   ]
  },
  {
   "cell_type": "markdown",
   "metadata": {
    "deletable": true,
    "editable": true
   },
   "source": [
    "### 2-action Pathways "
   ]
  },
  {
   "cell_type": "markdown",
   "metadata": {
    "deletable": true,
    "editable": true
   },
   "source": [
    "We consider only pathways made of two actions (because the Deltares Pathway Generator does not include pathways made of more than two actions)"
   ]
  },
  {
   "cell_type": "code",
   "execution_count": 170,
   "metadata": {
    "collapsed": true,
    "deletable": true,
    "editable": true
   },
   "outputs": [],
   "source": [
    "pathways = []\n",
    "for i, action in enumerate(actions):\n",
    "    left_actions = actions[i+1:]\n",
    "    for combined_action in left_actions:\n",
    "        pathway = {'name': action['name'],\n",
    "                   'caption': action['name'] + ' + ' + combined_action['name'],\n",
    "                   'combined_to': combined_action['name'],\n",
    "                   'predecessor': action['name'],\n",
    "                   'color': action['color'], \n",
    "                   'values': [action['values'][-1]]}\n",
    "        pathways.append(pathway)"
   ]
  },
  {
   "cell_type": "code",
   "execution_count": 171,
   "metadata": {
    "collapsed": false,
    "deletable": true,
    "editable": true
   },
   "outputs": [
    {
     "data": {
      "text/plain": [
       "[{'caption': 'pump_capacity + sluices_widening',\n",
       "  'color': 'clMaroon',\n",
       "  'combined_to': 'sluices_widening',\n",
       "  'name': 'pump_capacity',\n",
       "  'predecessor': 'pump_capacity',\n",
       "  'values': [500]},\n",
       " {'caption': 'pump_capacity + summer_target',\n",
       "  'color': 'clMaroon',\n",
       "  'combined_to': 'summer_target',\n",
       "  'name': 'pump_capacity',\n",
       "  'predecessor': 'pump_capacity',\n",
       "  'values': [500]},\n",
       " {'caption': 'sluices_widening + summer_target',\n",
       "  'color': 'clNavy',\n",
       "  'combined_to': 'summer_target',\n",
       "  'name': 'sluices_widening',\n",
       "  'predecessor': 'sluices_widening',\n",
       "  'values': [2]}]"
      ]
     },
     "execution_count": 171,
     "metadata": {},
     "output_type": "execute_result"
    }
   ],
   "source": [
    "pathways"
   ]
  },
  {
   "cell_type": "code",
   "execution_count": 172,
   "metadata": {
    "collapsed": true,
    "deletable": true,
    "editable": true
   },
   "outputs": [],
   "source": [
    "# var new_var correspondence\n",
    "name_crit_unc ={'low_flow_shift':'low flow reduction $[m^3/s]$',\n",
    "      'peak_inflow_multiplier': 'max discharge increase $[\\%]$ ',\n",
    "      'sea_level_shift': 'sea level rise $[m]$',\n",
    "      'wind_multiplier' : 'change wind speed, $[\\%]$ '}\n",
    "     # 'winter_target': 'winter target level $[mNAP]$',}\n",
    "    \n",
    "    "
   ]
  },
  {
   "cell_type": "code",
   "execution_count": 173,
   "metadata": {
    "collapsed": true,
    "deletable": true,
    "editable": true
   },
   "outputs": [],
   "source": [
    "# rename\n",
    "old_var_name = results_df.columns.copy(deep=True)\n",
    "new_var_name = [ name_crit_unc[var] if var in name_crit_unc else var for var in old_var_name  ]\n",
    "results_df.columns = new_var_name"
   ]
  },
  {
   "cell_type": "markdown",
   "metadata": {
    "deletable": true,
    "editable": true
   },
   "source": [
    "### define scenarios data"
   ]
  },
  {
   "cell_type": "code",
   "execution_count": 174,
   "metadata": {
    "collapsed": false,
    "deletable": true,
    "editable": true
   },
   "outputs": [
    {
     "data": {
      "text/plain": [
       "(343, 3)"
      ]
     },
     "execution_count": 174,
     "metadata": {},
     "output_type": "execute_result"
    }
   ],
   "source": [
    "scenarios_df = results_df.iloc[results_df['scenario_id'].unique(),0:len(critical_uncertainties)]\n",
    "scenarios_df.shape"
   ]
  },
  {
   "cell_type": "markdown",
   "metadata": {
    "deletable": true,
    "editable": true
   },
   "source": [
    "### Define policy success"
   ]
  },
  {
   "cell_type": "code",
   "execution_count": 175,
   "metadata": {
    "collapsed": true,
    "deletable": true,
    "editable": true
   },
   "outputs": [],
   "source": [
    "policy_success_threshold = {}\n",
    "policy_success_threshold['dike failure frequency'] = 3000\n",
    "policy_success_threshold['demand deficit relative'] = 0.01 # in *100 %\n",
    "\n",
    "sign = {} # negative is the objective to be minimized, positive if to be maximized \n",
    "sign['dike failure frequency'] = -1\n",
    "sign['demand deficit relative'] = +1"
   ]
  },
  {
   "cell_type": "markdown",
   "metadata": {
    "deletable": true,
    "editable": true
   },
   "source": [
    "### Identify policy success scenarios"
   ]
  },
  {
   "cell_type": "code",
   "execution_count": 176,
   "metadata": {
    "collapsed": true,
    "deletable": true,
    "editable": true
   },
   "outputs": [],
   "source": [
    "policy_success = pd.DataFrame(results_df[['policy','scenario_id']])\n",
    "for objective in objectives:\n",
    "    policy_success[objective] = sign[objective] * results_df[objective] <= sign [objective] * policy_success_threshold[objective]"
   ]
  },
  {
   "cell_type": "markdown",
   "metadata": {
    "deletable": true,
    "editable": true
   },
   "source": [
    "#### overall success of policy success is if all criteria are satisfied "
   ]
  },
  {
   "cell_type": "code",
   "execution_count": 177,
   "metadata": {
    "collapsed": true,
    "deletable": true,
    "editable": true
   },
   "outputs": [],
   "source": [
    "policy_success['overall']= policy_success[objectives].all(axis=1)"
   ]
  },
  {
   "cell_type": "markdown",
   "metadata": {
    "deletable": true,
    "editable": true
   },
   "source": [
    "#### Pivot policy-success results in scenarios (rows) vs policy (columns) table"
   ]
  },
  {
   "cell_type": "code",
   "execution_count": 178,
   "metadata": {
    "collapsed": false,
    "deletable": true,
    "editable": true
   },
   "outputs": [
    {
     "data": {
      "text/plain": [
       "policy\n",
       "{'pump_capacity': 0, 'summer_target': -0.2, 'sluices_widening': 1}       10\n",
       "{'pump_capacity': 0, 'summer_target': -0.2, 'sluices_widening': 2}       80\n",
       "{'pump_capacity': 0, 'summer_target': 0.2, 'sluices_widening': 1}        58\n",
       "{'pump_capacity': 0, 'summer_target': 0.2, 'sluices_widening': 2}       155\n",
       "{'pump_capacity': 500, 'summer_target': -0.2, 'sluices_widening': 1}    136\n",
       "{'pump_capacity': 500, 'summer_target': -0.2, 'sluices_widening': 2}    136\n",
       "{'pump_capacity': 500, 'summer_target': 0.2, 'sluices_widening': 1}     200\n",
       "{'pump_capacity': 500, 'summer_target': 0.2, 'sluices_widening': 2}     197\n",
       "dtype: int64"
      ]
     },
     "execution_count": 178,
     "metadata": {},
     "output_type": "execute_result"
    }
   ],
   "source": [
    "success_per_policy = policy_success.pivot(columns='policy', values='overall', index='scenario_id')   \n",
    "policies = success_per_policy.columns\n",
    "success_per_policy.sum()"
   ]
  },
  {
   "cell_type": "markdown",
   "metadata": {
    "deletable": true,
    "editable": true
   },
   "source": [
    "## Identify Adaptation Tipping Points by scenario discovery"
   ]
  },
  {
   "cell_type": "markdown",
   "metadata": {
    "deletable": true,
    "editable": true
   },
   "source": [
    "### Find ATP on the space of critical uncertainties "
   ]
  },
  {
   "cell_type": "markdown",
   "metadata": {
    "deletable": true,
    "editable": true
   },
   "source": [
    "#### Use of Classification Tree (CART)"
   ]
  },
  {
   "cell_type": "code",
   "execution_count": 179,
   "metadata": {
    "collapsed": true,
    "deletable": true,
    "editable": true
   },
   "outputs": [],
   "source": [
    "from sklearn import tree\n",
    "tree_decision = tree.DecisionTreeClassifier(criterion='gini',max_depth=3)"
   ]
  },
  {
   "cell_type": "code",
   "execution_count": 180,
   "metadata": {
    "collapsed": true,
    "deletable": true,
    "editable": true
   },
   "outputs": [],
   "source": [
    "adaptation_tree={}\n",
    "features = {}\n",
    "thresholds = {}\n",
    "for policy in policies:\n",
    "    adaptation_tree[policy] = tree_decision.fit(scenarios_df,success_per_policy[policy])\n",
    "    features[policy] = adaptation_tree[policy].tree_.feature\n",
    "    thresholds[policy] = adaptation_tree[policy].tree_.threshold"
   ]
  },
  {
   "cell_type": "code",
   "execution_count": 181,
   "metadata": {
    "collapsed": false,
    "deletable": true,
    "editable": true
   },
   "outputs": [
    {
     "data": {
      "text/plain": [
       "<matplotlib.axes._subplots.AxesSubplot at 0x1230c5e48>"
      ]
     },
     "execution_count": 181,
     "metadata": {},
     "output_type": "execute_result"
    },
    {
     "data": {
      "image/png": "[encoded data removed]",
      "text/plain": [
       "<Figure size 432x288 with 1 Axes>"
      ]
     },
     "metadata": {
      "image/png": {
       "height": 263,
       "width": 503
      }
     },
     "output_type": "display_data"
    }
   ],
   "source": [
    "clf = adaptation_tree[policy]\n",
    "feature_importance = pd.Series(clf.feature_importances_,index=scenarios_df.columns)\n",
    "feature_importance.plot(kind='barh',title='Feature Importance')"
   ]
  },
  {
   "cell_type": "markdown",
   "metadata": {
    "deletable": true,
    "editable": true
   },
   "source": [
    "#### Use of Range Search (PRIM)"
   ]
  },
  {
   "cell_type": "code",
   "execution_count": 182,
   "metadata": {
    "collapsed": true,
    "deletable": true,
    "editable": true
   },
   "outputs": [],
   "source": [
    "from ema_workbench.analysis import prim"
   ]
  },
  {
   "cell_type": "code",
   "execution_count": 183,
   "metadata": {
    "collapsed": false,
    "deletable": true,
    "editable": true
   },
   "outputs": [
    {
     "name": "stderr",
     "output_type": "stream",
     "text": [
      "/Users/lraso/anaconda/lib/python3.5/site-packages/pandas/core/frame.py:6211: FutureWarning: Sorting because non-concatenation axis is not aligned. A future version\n",
      "of pandas will change to not sort by default.\n",
      "\n",
      "To accept the future behavior, pass 'sort=False'.\n",
      "\n",
      "To retain the current behavior and silence the warning, pass 'sort=True'.\n",
      "\n",
      "  sort=sort)\n"
     ]
    },
    {
     "name": "stdout",
     "output_type": "stream",
     "text": [
      "3\n",
      "1\n",
      "5\n",
      "3\n",
      "1\n",
      "1\n",
      "1\n",
      "2\n"
     ]
    }
   ],
   "source": [
    "boxes = {}\n",
    "ATP = {}\n",
    "box_single_signpost = {}\n",
    "upper_lim = 1\n",
    "\n",
    "for policy in policies:\n",
    "    x = scenarios_df.to_records(index=False)\n",
    "    y = success_per_policy[policy].values\n",
    "    prim_alg = prim.Prim(x, y, threshold=0.3)\n",
    "    box = prim_alg.find_box()\n",
    "    boxes[policy] = box\n",
    "    \n",
    "    # criteria : single sigpost with the largest density\n",
    "    i = max(box.peeling_trajectory.index[box.peeling_trajectory['res dim'] == 1])\n",
    "    print(i)\n",
    "    ATP[policy] = box.box_lims[i][:][upper_lim]"
   ]
  },
  {
   "cell_type": "code",
   "execution_count": 184,
   "metadata": {},
   "outputs": [
    {
     "data": {
      "text/plain": [
       "{\"{'pump_capacity': 0, 'summer_target': -0.2, 'sluices_widening': 1}\": (100., 1.75, 1.),\n",
       " \"{'pump_capacity': 0, 'summer_target': -0.2, 'sluices_widening': 2}\": (100., 2., 1.),\n",
       " \"{'pump_capacity': 0, 'summer_target': 0.2, 'sluices_widening': 1}\": (100., 2., 0.25),\n",
       " \"{'pump_capacity': 0, 'summer_target': 0.2, 'sluices_widening': 2}\": (100., 2., 0.58333333),\n",
       " \"{'pump_capacity': 500, 'summer_target': -0.2, 'sluices_widening': 1}\": (100., 2., 1.),\n",
       " \"{'pump_capacity': 500, 'summer_target': -0.2, 'sluices_widening': 2}\": (100., 2., 1.),\n",
       " \"{'pump_capacity': 500, 'summer_target': 0.2, 'sluices_widening': 1}\": (100., 2., 0.91666667),\n",
       " \"{'pump_capacity': 500, 'summer_target': 0.2, 'sluices_widening': 2}\": (100., 2., 0.75)}"
      ]
     },
     "execution_count": 184,
     "metadata": {},
     "output_type": "execute_result"
    }
   ],
   "source": [
    "ATP"
   ]
  },
  {
   "cell_type": "markdown",
   "metadata": {
    "deletable": true,
    "editable": true
   },
   "source": [
    "#### ZOOM IN: tradeoff density-coverage"
   ]
  },
  {
   "cell_type": "code",
   "execution_count": 239,
   "metadata": {
    "collapsed": false,
    "deletable": true,
    "editable": true
   },
   "outputs": [
    {
     "data": {
      "text/plain": [
       "(100., 1.75, 1.)"
      ]
     },
     "execution_count": 239,
     "metadata": {},
     "output_type": "execute_result"
    }
   ],
   "source": [
    "b = boxes[\"{'pump_capacity': 0, 'summer_target': -0.2, 'sluices_widening': 1}\"]\n",
    "ATP[\"{'pump_capacity': 0, 'summer_target': -0.2, 'sluices_widening': 1}\"]"
   ]
  },
  {
   "cell_type": "code",
   "execution_count": 242,
   "metadata": {},
   "outputs": [
    {
     "data": {
      "text/plain": [
       "[array([(  0., 1., 0.), (100., 2., 1.)],\n",
       "       dtype=(numpy.record, [('low flow reduction $[m^3/s]$', '<f8'), ('max discharge increase $[\\\\%]$ ', '<f8'), ('sea level rise $[m]$', '<f8')])),\n",
       " array([(  0., 1.        , 0.), (100., 1.91666667, 1.)],\n",
       "       dtype=(numpy.record, [('low flow reduction $[m^3/s]$', '<f8'), ('max discharge increase $[\\\\%]$ ', '<f8'), ('sea level rise $[m]$', '<f8')])),\n",
       " array([(  0., 1.  , 0.), (100., 1.75, 1.)],\n",
       "       dtype=(numpy.record, [('low flow reduction $[m^3/s]$', '<f8'), ('max discharge increase $[\\\\%]$ ', '<f8'), ('sea level rise $[m]$', '<f8')])),\n",
       " array([(  0., 1.08333333, 0.), (100., 1.75      , 1.)],\n",
       "       dtype=(numpy.record, [('low flow reduction $[m^3/s]$', '<f8'), ('max discharge increase $[\\\\%]$ ', '<f8'), ('sea level rise $[m]$', '<f8')])),\n",
       " array([(  0., 1.08333333, 0.        ), (100., 1.75      , 0.91666667)],\n",
       "       dtype=(numpy.record, [('low flow reduction $[m^3/s]$', '<f8'), ('max discharge increase $[\\\\%]$ ', '<f8'), ('sea level rise $[m]$', '<f8')])),\n",
       " array([(  0., 1.08333333, 0.  ), (100., 1.75      , 0.75)],\n",
       "       dtype=(numpy.record, [('low flow reduction $[m^3/s]$', '<f8'), ('max discharge increase $[\\\\%]$ ', '<f8'), ('sea level rise $[m]$', '<f8')])),\n",
       " array([(  0., 1.08333333, 0.        ), (100., 1.75      , 0.58333333)],\n",
       "       dtype=(numpy.record, [('low flow reduction $[m^3/s]$', '<f8'), ('max discharge increase $[\\\\%]$ ', '<f8'), ('sea level rise $[m]$', '<f8')])),\n",
       " array([(  0., 1.08333333, 0.        ), (100., 1.75      , 0.41666667)],\n",
       "       dtype=(numpy.record, [('low flow reduction $[m^3/s]$', '<f8'), ('max discharge increase $[\\\\%]$ ', '<f8'), ('sea level rise $[m]$', '<f8')])),\n",
       " array([(  0., 1.08333333, 0.  ), (100., 1.75      , 0.25)],\n",
       "       dtype=(numpy.record, [('low flow reduction $[m^3/s]$', '<f8'), ('max discharge increase $[\\\\%]$ ', '<f8'), ('sea level rise $[m]$', '<f8')])),\n",
       " array([(  0., 1.08333333, 0.        ), (100., 1.75      , 0.08333333)],\n",
       "       dtype=(numpy.record, [('low flow reduction $[m^3/s]$', '<f8'), ('max discharge increase $[\\\\%]$ ', '<f8'), ('sea level rise $[m]$', '<f8')])),\n",
       " array([(  0., 1.08333333, 0.        ), (100., 1.58333333, 0.08333333)],\n",
       "       dtype=(numpy.record, [('low flow reduction $[m^3/s]$', '<f8'), ('max discharge increase $[\\\\%]$ ', '<f8'), ('sea level rise $[m]$', '<f8')]))]"
      ]
     },
     "execution_count": 242,
     "metadata": {},
     "output_type": "execute_result"
    }
   ],
   "source": [
    "b.box_lims"
   ]
  },
  {
   "cell_type": "code",
   "execution_count": 241,
   "metadata": {},
   "outputs": [],
   "source": [
    "b.box_lim = b.box_lims[1]"
   ]
  },
  {
   "cell_type": "code",
   "execution_count": 238,
   "metadata": {},
   "outputs": [
    {
     "data": {
      "image/png": "[encoded data removed]",
      "text/plain": [
       "<Figure size 432x288 with 1 Axes>"
      ]
     },
     "execution_count": 238,
     "metadata": {
      "image/png": {
       "height": 250,
       "width": 373
      }
     },
     "output_type": "execute_result"
    },
    {
     "data": {
      "image/png": "[encoded data removed]",
      "text/plain": [
       "<Figure size 432x288 with 1 Axes>"
      ]
     },
     "metadata": {
      "image/png": {
       "height": 250,
       "width": 373
      }
     },
     "output_type": "display_data"
    }
   ],
   "source": [
    "b.show_pairs_scatter()\n",
    "plt.show()"
   ]
  },
  {
   "cell_type": "code",
   "execution_count": 233,
   "metadata": {
    "collapsed": false,
    "deletable": true,
    "editable": true,
    "scrolled": false
   },
   "outputs": [
    {
     "data": {
      "image/png": "[encoded data removed]",
      "text/plain": [
       "<Figure size 432x288 with 2 Axes>"
      ]
     },
     "execution_count": 233,
     "metadata": {
      "image/png": {
       "height": 265,
       "width": 322
      }
     },
     "output_type": "execute_result"
    },
    {
     "data": {
      "image/png": "[encoded data removed]",
      "text/plain": [
       "<Figure size 432x288 with 2 Axes>"
      ]
     },
     "metadata": {
      "image/png": {
       "height": 265,
       "width": 322
      }
     },
     "output_type": "display_data"
    }
   ],
   "source": [
    "b.show_tradeoff()\n",
    "plt.show()"
   ]
  },
  {
   "cell_type": "code",
   "execution_count": 225,
   "metadata": {
    "collapsed": false
   },
   "outputs": [
    {
     "data": {
      "text/html": [
       "<div>\n",
       "<style scoped>\n",
       "    .dataframe tbody tr th:only-of-type {\n",
       "        vertical-align: middle;\n",
       "    }\n",
       "\n",
       "    .dataframe tbody tr th {\n",
       "        vertical-align: top;\n",
       "    }\n",
       "\n",
       "    .dataframe thead th {\n",
       "        text-align: right;\n",
       "    }\n",
       "</style>\n",
       "<table border=\"1\" class=\"dataframe\">\n",
       "  <thead>\n",
       "    <tr style=\"text-align: right;\">\n",
       "      <th></th>\n",
       "      <th>coverage</th>\n",
       "      <th>density</th>\n",
       "      <th>mass</th>\n",
       "      <th>mean</th>\n",
       "      <th>res dim</th>\n",
       "    </tr>\n",
       "  </thead>\n",
       "  <tbody>\n",
       "    <tr>\n",
       "      <th>0</th>\n",
       "      <td>1.0</td>\n",
       "      <td>0.029155</td>\n",
       "      <td>1.000000</td>\n",
       "      <td>0.029155</td>\n",
       "      <td>0</td>\n",
       "    </tr>\n",
       "    <tr>\n",
       "      <th>1</th>\n",
       "      <td>1.0</td>\n",
       "      <td>0.034014</td>\n",
       "      <td>0.857143</td>\n",
       "      <td>0.034014</td>\n",
       "      <td>1</td>\n",
       "    </tr>\n",
       "    <tr>\n",
       "      <th>2</th>\n",
       "      <td>1.0</td>\n",
       "      <td>0.040816</td>\n",
       "      <td>0.714286</td>\n",
       "      <td>0.040816</td>\n",
       "      <td>1</td>\n",
       "    </tr>\n",
       "    <tr>\n",
       "      <th>3</th>\n",
       "      <td>1.0</td>\n",
       "      <td>0.051020</td>\n",
       "      <td>0.571429</td>\n",
       "      <td>0.051020</td>\n",
       "      <td>1</td>\n",
       "    </tr>\n",
       "    <tr>\n",
       "      <th>4</th>\n",
       "      <td>1.0</td>\n",
       "      <td>0.059524</td>\n",
       "      <td>0.489796</td>\n",
       "      <td>0.059524</td>\n",
       "      <td>2</td>\n",
       "    </tr>\n",
       "    <tr>\n",
       "      <th>5</th>\n",
       "      <td>1.0</td>\n",
       "      <td>0.071429</td>\n",
       "      <td>0.408163</td>\n",
       "      <td>0.071429</td>\n",
       "      <td>2</td>\n",
       "    </tr>\n",
       "    <tr>\n",
       "      <th>6</th>\n",
       "      <td>1.0</td>\n",
       "      <td>0.089286</td>\n",
       "      <td>0.326531</td>\n",
       "      <td>0.089286</td>\n",
       "      <td>2</td>\n",
       "    </tr>\n",
       "    <tr>\n",
       "      <th>7</th>\n",
       "      <td>1.0</td>\n",
       "      <td>0.119048</td>\n",
       "      <td>0.244898</td>\n",
       "      <td>0.119048</td>\n",
       "      <td>2</td>\n",
       "    </tr>\n",
       "    <tr>\n",
       "      <th>8</th>\n",
       "      <td>1.0</td>\n",
       "      <td>0.178571</td>\n",
       "      <td>0.163265</td>\n",
       "      <td>0.178571</td>\n",
       "      <td>2</td>\n",
       "    </tr>\n",
       "    <tr>\n",
       "      <th>9</th>\n",
       "      <td>1.0</td>\n",
       "      <td>0.357143</td>\n",
       "      <td>0.081633</td>\n",
       "      <td>0.357143</td>\n",
       "      <td>2</td>\n",
       "    </tr>\n",
       "    <tr>\n",
       "      <th>10</th>\n",
       "      <td>0.9</td>\n",
       "      <td>0.428571</td>\n",
       "      <td>0.061224</td>\n",
       "      <td>0.428571</td>\n",
       "      <td>2</td>\n",
       "    </tr>\n",
       "  </tbody>\n",
       "</table>\n",
       "</div>"
      ],
      "text/plain": [
       "    coverage   density      mass      mean res dim\n",
       "0        1.0  0.029155  1.000000  0.029155       0\n",
       "1        1.0  0.034014  0.857143  0.034014       1\n",
       "2        1.0  0.040816  0.714286  0.040816       1\n",
       "3        1.0  0.051020  0.571429  0.051020       1\n",
       "4        1.0  0.059524  0.489796  0.059524       2\n",
       "5        1.0  0.071429  0.408163  0.071429       2\n",
       "6        1.0  0.089286  0.326531  0.089286       2\n",
       "7        1.0  0.119048  0.244898  0.119048       2\n",
       "8        1.0  0.178571  0.163265  0.178571       2\n",
       "9        1.0  0.357143  0.081633  0.357143       2\n",
       "10       0.9  0.428571  0.061224  0.428571       2"
      ]
     },
     "execution_count": 225,
     "metadata": {},
     "output_type": "execute_result"
    },
    {
     "name": "stdout",
     "output_type": "stream",
     "text": [
      "coverage            1\n",
      "density      0.357143\n",
      "mass        0.0816327\n",
      "mean         0.357143\n",
      "res dim             2\n",
      "Name: 9, dtype: object\n",
      "\n",
      "                                   box 9            \\\n",
      "                                     min       max   \n",
      "sea level rise $[m]$            0.000000  0.083333   \n",
      "max discharge increase $[\\%]$   1.083333  1.750000   \n",
      "\n",
      "                                                                            \n",
      "                                                                 qp values  \n",
      "sea level rise $[m]$                               [4.509816589172546e-07]  \n",
      "max discharge increase $[\\%]$   [0.21969658893269797, 0.08673206235375282]  \n",
      "\n"
     ]
    },
    {
     "name": "stderr",
     "output_type": "stream",
     "text": [
      "/Users/lraso/anaconda/lib/python3.5/site-packages/ipykernel/__main__.py:4: FutureWarning: 'argmax' is deprecated, use 'idxmax' instead. The behavior of 'argmax'\n",
      "will be corrected to return the positional maximum in the future.\n",
      "Use 'series.values.argmax' to get the position of the maximum now.\n"
     ]
    }
   ],
   "source": [
    "b.peeling_trajectory\n",
    "plt.show()\n",
    "f = (b.peeling_trajectory.coverage + b.peeling_trajectory.density)/2\n",
    "b.inspect(int(f.argmax()))"
   ]
  },
  {
   "cell_type": "code",
   "execution_count": 191,
   "metadata": {},
   "outputs": [
    {
     "data": {
      "text/plain": [
       "3"
      ]
     },
     "execution_count": 191,
     "metadata": {},
     "output_type": "execute_result"
    }
   ],
   "source": [
    "max(b.peeling_trajectory.index[b.peeling_trajectory['res dim'] == 1])\n"
   ]
  },
  {
   "cell_type": "code",
   "execution_count": 192,
   "metadata": {},
   "outputs": [
    {
     "data": {
      "image/png": "[encoded data removed]",
      "text/plain": [
       "<Figure size 432x288 with 1 Axes>"
      ]
     },
     "execution_count": 192,
     "metadata": {
      "image/png": {
       "height": 235,
       "width": 668
      }
     },
     "output_type": "execute_result"
    },
    {
     "data": {
      "image/png": "[encoded data removed]",
      "text/plain": [
       "<Figure size 432x288 with 1 Axes>"
      ]
     },
     "metadata": {
      "image/png": {
       "height": 235,
       "width": 668
      }
     },
     "output_type": "display_data"
    }
   ],
   "source": [
    "b.inspect(int(f.idxmax()),style='graph')"
   ]
  },
  {
   "cell_type": "code",
   "execution_count": 226,
   "metadata": {
    "collapsed": false,
    "deletable": true,
    "editable": true
   },
   "outputs": [],
   "source": [
    "b.box_lim = b.box_lims[1]"
   ]
  },
  {
   "cell_type": "code",
   "execution_count": 227,
   "metadata": {},
   "outputs": [
    {
     "name": "stdout",
     "output_type": "stream",
     "text": [
      "coverage            1\n",
      "density     0.0408163\n",
      "mass         0.714286\n",
      "mean        0.0408163\n",
      "res dim             1\n",
      "Name: 2, dtype: object\n",
      "\n",
      "                               box 2                             \n",
      "                                 min   max              qp values\n",
      "max discharge increase $[\\%]$    1.0  1.75  [0.18136160458772901]\n",
      "\n"
     ]
    }
   ],
   "source": [
    "b.inspect(2)"
   ]
  },
  {
   "cell_type": "code",
   "execution_count": 195,
   "metadata": {
    "collapsed": false,
    "deletable": true,
    "editable": true
   },
   "outputs": [
    {
     "name": "stdout",
     "output_type": "stream",
     "text": [
      "coverage            1\n",
      "density     0.0595238\n",
      "mass         0.489796\n",
      "mean        0.0595238\n",
      "res dim             2\n",
      "Name: 4, dtype: object\n",
      "\n",
      "                                   box 4            \\\n",
      "                                     min       max   \n",
      "max discharge increase $[\\%]$   1.083333  1.750000   \n",
      "sea level rise $[m]$            0.000000  0.916667   \n",
      "\n",
      "                                                                          \n",
      "                                                               qp values  \n",
      "max discharge increase $[\\%]$   [0.2802871139587463, 0.1330326719171272]  \n",
      "sea level rise $[m]$                                [0.3548076396308219]  \n",
      "\n"
     ]
    },
    {
     "data": {
      "image/png": "[encoded data removed]",
      "text/plain": [
       "<Figure size 432x288 with 1 Axes>"
      ]
     },
     "metadata": {
      "image/png": {
       "height": 235,
       "width": 661
      }
     },
     "output_type": "display_data"
    }
   ],
   "source": [
    "box_id=None\n",
    "box_res = b.inspect(4)\n",
    "box_res2 = b.inspect(box_id,style='graph')\n"
   ]
  },
  {
   "cell_type": "markdown",
   "metadata": {
    "deletable": true,
    "editable": true
   },
   "source": [
    "### Rendering adaptation pathways\n",
    "#### Creating xml to be loaded within the [Pathways Generator](https://publicwiki.deltares.nl/display/AP/Pathways+Generator) by [Deltares](www.deltares/nl)"
   ]
  },
  {
   "cell_type": "code",
   "execution_count": 196,
   "metadata": {
    "collapsed": true,
    "deletable": true,
    "editable": true
   },
   "outputs": [],
   "source": [
    "from pathways.pathways import create_patwhays_map"
   ]
  },
  {
   "cell_type": "code",
   "execution_count": 197,
   "metadata": {
    "collapsed": true,
    "deletable": true,
    "editable": true
   },
   "outputs": [],
   "source": [
    "# find correspondence policy as in table to dictionary of actions\n",
    "correspondence_table = get_policy_def(results_df,actions_name)"
   ]
  },
  {
   "cell_type": "code",
   "execution_count": 208,
   "metadata": {
    "collapsed": true,
    "deletable": true,
    "editable": true
   },
   "outputs": [],
   "source": [
    "# auxiliary functions \n",
    "def find_policy_id(policy_dict,correspondence_table):\n",
    "    for policy_id in correspondence_table:\n",
    "        if correspondence_table[policy_id]==policy_dict:\n",
    "            return(policy_id)\n",
    "\n",
    "def find_policy(elements,precedent_policy,correspondence_table):\n",
    "    \n",
    "    for action in elements:\n",
    "        print (action)\n",
    "        \n",
    "        new_policy = precedent_policy.copy()\n",
    "        \n",
    "        if 'values' in action: # not current situation\n",
    "            new_policy[action['name']]=action['values'][-1]\n",
    "\n",
    "        if 'combined_to' in action: # is a pathway\n",
    "            value_combined = [combined_action['values'][-1] for combined_action in elements if combined_action['name']==action['combined_to']][0]\n",
    "            new_policy[action['combined_to']] = value_combined\n",
    "            \n",
    "        new_policy_id = find_policy_id(new_policy,correspondence_table)\n",
    "        action['policy_id'] = new_policy_id\n",
    "        \n",
    "        "
   ]
  },
  {
   "cell_type": "code",
   "execution_count": 215,
   "metadata": {
    "collapsed": true,
    "deletable": true,
    "editable": true
   },
   "outputs": [],
   "source": [
    "# add action for current situation\n",
    "\n",
    "current_situation = {}\n",
    "for action_name in actions_name:\n",
    "    action_value = [action['values'][0] for action in actions if action['name']==action_name][0]\n",
    "    current_situation[action_name] = action_value \n",
    "\n",
    "action_current_situation = {'caption':'current_situation', 'name': 'current_situation','color':'clGray','predecessor_id':'-1'}\n",
    "\n",
    "#action_current_situation['policy_id'] = find_policy_id(current_situation,correspondence_table)\n",
    "# add current action to list of actins\n",
    "elements = [action_current_situation] + actions + pathways"
   ]
  },
  {
   "cell_type": "code",
   "execution_count": 216,
   "metadata": {},
   "outputs": [
    {
     "data": {
      "text/plain": [
       "[{'caption': 'current_situation',\n",
       "  'color': 'clGray',\n",
       "  'name': 'current_situation',\n",
       "  'predecessor_id': '-1'},\n",
       " {'caption': 'pump_capacity',\n",
       "  'color': 'clMaroon',\n",
       "  'name': 'pump_capacity',\n",
       "  'policy_id': \"{'pump_capacity': 500, 'summer_target': -0.2, 'sluices_widening': 1}\",\n",
       "  'predecessor': 'current_situation',\n",
       "  'tippingpointvalue': 2.0,\n",
       "  'values': [0, 500]},\n",
       " {'caption': 'sluices_widening',\n",
       "  'color': 'clNavy',\n",
       "  'name': 'sluices_widening',\n",
       "  'policy_id': \"{'pump_capacity': 0, 'summer_target': -0.2, 'sluices_widening': 2}\",\n",
       "  'predecessor': 'current_situation',\n",
       "  'tippingpointvalue': 2.0,\n",
       "  'values': [1, 2]},\n",
       " {'caption': 'summer_target',\n",
       "  'color': 'clOlive',\n",
       "  'name': 'summer_target',\n",
       "  'policy_id': \"{'pump_capacity': 0, 'summer_target': 0.2, 'sluices_widening': 1}\",\n",
       "  'predecessor': 'current_situation',\n",
       "  'tippingpointvalue': 2.0,\n",
       "  'values': [-0.2, 0.2]},\n",
       " {'caption': 'pump_capacity + sluices_widening',\n",
       "  'color': 'clMaroon',\n",
       "  'combined_to': 'sluices_widening',\n",
       "  'name': 'pump_capacity',\n",
       "  'policy_id': \"{'pump_capacity': 500, 'summer_target': -0.2, 'sluices_widening': 2}\",\n",
       "  'predecessor': 'pump_capacity',\n",
       "  'values': [500]},\n",
       " {'caption': 'pump_capacity + summer_target',\n",
       "  'color': 'clMaroon',\n",
       "  'combined_to': 'summer_target',\n",
       "  'name': 'pump_capacity',\n",
       "  'policy_id': \"{'pump_capacity': 500, 'summer_target': 0.2, 'sluices_widening': 1}\",\n",
       "  'predecessor': 'pump_capacity',\n",
       "  'values': [500]},\n",
       " {'caption': 'sluices_widening + summer_target',\n",
       "  'color': 'clNavy',\n",
       "  'combined_to': 'summer_target',\n",
       "  'name': 'sluices_widening',\n",
       "  'policy_id': \"{'pump_capacity': 0, 'summer_target': 0.2, 'sluices_widening': 2}\",\n",
       "  'predecessor': 'sluices_widening',\n",
       "  'values': [2]}]"
      ]
     },
     "execution_count": 216,
     "metadata": {},
     "output_type": "execute_result"
    }
   ],
   "source": [
    "elements"
   ]
  },
  {
   "cell_type": "code",
   "execution_count": 217,
   "metadata": {
    "collapsed": true,
    "deletable": true,
    "editable": true
   },
   "outputs": [
    {
     "name": "stdout",
     "output_type": "stream",
     "text": [
      "{'name': 'current_situation', 'predecessor_id': '-1', 'caption': 'current_situation', 'color': 'clGray'}\n",
      "{'name': 'pump_capacity', 'policy_id': \"{'pump_capacity': 500, 'summer_target': -0.2, 'sluices_widening': 1}\", 'values': [0, 500], 'color': 'clMaroon', 'predecessor': 'current_situation', 'caption': 'pump_capacity', 'tippingpointvalue': 2.0}\n",
      "{'name': 'sluices_widening', 'policy_id': \"{'pump_capacity': 0, 'summer_target': -0.2, 'sluices_widening': 2}\", 'values': [1, 2], 'color': 'clNavy', 'predecessor': 'current_situation', 'caption': 'sluices_widening', 'tippingpointvalue': 2.0}\n",
      "{'name': 'summer_target', 'policy_id': \"{'pump_capacity': 0, 'summer_target': 0.2, 'sluices_widening': 1}\", 'values': [-0.2, 0.2], 'color': 'clOlive', 'predecessor': 'current_situation', 'caption': 'summer_target', 'tippingpointvalue': 2.0}\n",
      "{'name': 'pump_capacity', 'combined_to': 'sluices_widening', 'policy_id': \"{'pump_capacity': 500, 'summer_target': -0.2, 'sluices_widening': 2}\", 'color': 'clMaroon', 'values': [500], 'predecessor': 'pump_capacity', 'caption': 'pump_capacity + sluices_widening'}\n",
      "{'name': 'pump_capacity', 'combined_to': 'summer_target', 'policy_id': \"{'pump_capacity': 500, 'summer_target': 0.2, 'sluices_widening': 1}\", 'color': 'clMaroon', 'values': [500], 'predecessor': 'pump_capacity', 'caption': 'pump_capacity + summer_target'}\n",
      "{'name': 'sluices_widening', 'combined_to': 'summer_target', 'policy_id': \"{'pump_capacity': 0, 'summer_target': 0.2, 'sluices_widening': 2}\", 'color': 'clNavy', 'values': [2], 'predecessor': 'sluices_widening', 'caption': 'sluices_widening + summer_target'}\n"
     ]
    }
   ],
   "source": [
    "find_policy(elements,current_situation,correspondence_table)"
   ]
  },
  {
   "cell_type": "markdown",
   "metadata": {
    "deletable": true,
    "editable": true
   },
   "source": [
    "#### select critical uncertainty to render"
   ]
  },
  {
   "cell_type": "code",
   "execution_count": 218,
   "metadata": {
    "collapsed": true,
    "deletable": true,
    "editable": true
   },
   "outputs": [],
   "source": [
    "# select critical uncertainty to render\n",
    "rendered_uncertainty = 'peak_inflow_multiplier'#'sea_level_shift' # \n",
    "pos_rend_unc = critical_uncertainties.index(rendered_uncertainty)"
   ]
  },
  {
   "cell_type": "code",
   "execution_count": 219,
   "metadata": {
    "collapsed": true,
    "deletable": true,
    "editable": true
   },
   "outputs": [],
   "source": [
    "# assign tippingpoint value for the selected critical uncertainty\n",
    "for action in elements:\n",
    "    action['tippingpointvalue'] = ATP[action['policy_id']][pos_rend_unc]"
   ]
  },
  {
   "cell_type": "code",
   "execution_count": 222,
   "metadata": {},
   "outputs": [
    {
     "data": {
      "text/plain": [
       "{\"{'pump_capacity': 0, 'summer_target': -0.2, 'sluices_widening': 1}\": (100., 1.75, 1.),\n",
       " \"{'pump_capacity': 0, 'summer_target': -0.2, 'sluices_widening': 2}\": (100., 2., 1.),\n",
       " \"{'pump_capacity': 0, 'summer_target': 0.2, 'sluices_widening': 1}\": (100., 2., 0.25),\n",
       " \"{'pump_capacity': 0, 'summer_target': 0.2, 'sluices_widening': 2}\": (100., 2., 0.58333333),\n",
       " \"{'pump_capacity': 500, 'summer_target': -0.2, 'sluices_widening': 1}\": (100., 2., 1.),\n",
       " \"{'pump_capacity': 500, 'summer_target': -0.2, 'sluices_widening': 2}\": (100., 2., 1.),\n",
       " \"{'pump_capacity': 500, 'summer_target': 0.2, 'sluices_widening': 1}\": (100., 2., 0.91666667),\n",
       " \"{'pump_capacity': 500, 'summer_target': 0.2, 'sluices_widening': 2}\": (100., 2., 0.75)}"
      ]
     },
     "execution_count": 222,
     "metadata": {},
     "output_type": "execute_result"
    }
   ],
   "source": [
    "ATP"
   ]
  },
  {
   "cell_type": "code",
   "execution_count": 221,
   "metadata": {
    "collapsed": false,
    "deletable": true,
    "editable": true
   },
   "outputs": [
    {
     "name": "stdout",
     "output_type": "stream",
     "text": [
      "current_situation\n",
      "1.7499999999999998\n",
      "pump_capacity\n",
      "2.0\n",
      "sluices_widening\n",
      "2.0\n",
      "summer_target\n",
      "2.0\n",
      "pump_capacity + sluices_widening\n",
      "2.0\n",
      "pump_capacity + summer_target\n",
      "2.0\n",
      "sluices_widening + summer_target\n",
      "2.0\n"
     ]
    }
   ],
   "source": [
    "for el in elements:\n",
    "    print(el['caption'])\n",
    "    print(el['tippingpointvalue'])"
   ]
  },
  {
   "cell_type": "markdown",
   "metadata": {
    "deletable": true,
    "editable": true
   },
   "source": [
    "##### Generate pathway file"
   ]
  },
  {
   "cell_type": "code",
   "execution_count": 43,
   "metadata": {
    "collapsed": false,
    "deletable": true,
    "editable": true
   },
   "outputs": [
    {
     "data": {
      "text/plain": [
       "3916"
      ]
     },
     "execution_count": 43,
     "metadata": {},
     "output_type": "execute_result"
    }
   ],
   "source": [
    "graph_settings = {'xaxistitle':rendered_uncertainty,'maxtippingpoint':2}\n",
    "xml_str = create_patwhays_map(elements,graph_settings = graph_settings)\n",
    "\n",
    "pathway_file = open('figures/Ijsselmeer/'+rendered_uncertainty+'.pathways', 'w')\n",
    "pathway_file.write(xml_str)\n",
    "pathway_file.close()"
   ]
  },
  {
   "cell_type": "code",
   "execution_count": 44,
   "metadata": {
    "collapsed": false,
    "deletable": true,
    "editable": true
   },
   "outputs": [
    {
     "data": {
      "text/plain": [
       "'<?xml version=\"1.0\" ?>\\n<pathways>\\n  <pathwaytype>conditionbased</pathwaytype>\\n  <BeginYear>2018</BeginYear>\\n  <EndYear>2100</EndYear>\\n  <CurrentElement>1</CurrentElement>\\n  <element id=\"1\">\\n    <ycoord>500</ycoord>\\n    <combinationsecond>-1</combinationsecond>\\n    <policy_id>{\\'pump_capacity\\': 0, \\'summer_target\\': -0.2, \\'sluices_widening\\': 1}</policy_id>\\n    <color>clGray</color>\\n    <combinationtype>ctNone</combinationtype>\\n    <id>1</id>\\n    <predecessor_id>-1</predecessor_id>\\n    <predecessorid>-1</predecessorid>\\n    <caption>current_situation</caption>\\n    <tippingpointvalue>0.25</tippingpointvalue>\\n  </element>\\n  <element id=\"2\">\\n    <combinationsecond>-1</combinationsecond>\\n    <values>[0, 500]</values>\\n    <ycoord>375</ycoord>\\n    <policy_id>{\\'pump_capacity\\': 500, \\'summer_target\\': -0.2, \\'sluices_widening\\': 1}</policy_id>\\n    <color>clMaroon</color>\\n    <combinationtype>ctNone</combinationtype>\\n    <id>2</id>\\n    <predecessorid>1</predecessorid>\\n    <predecessor>current_situation</predecessor>\\n    <caption>pump_capacity</caption>\\n    <tippingpointvalue>0.9166666666666666</tippingpointvalue>\\n  </element>\\n  <element id=\"3\">\\n    <combinationsecond>-1</combinationsecond>\\n    <values>[1, 2]</values>\\n    <ycoord>250</ycoord>\\n    <policy_id>{\\'pump_capacity\\': 0, \\'summer_target\\': -0.2, \\'sluices_widening\\': 2}</policy_id>\\n    <color>clNavy</color>\\n    <combinationtype>ctNone</combinationtype>\\n    <id>3</id>\\n    <predecessorid>1</predecessorid>\\n    <predecessor>current_situation</predecessor>\\n    <caption>sluices_widening</caption>\\n    <tippingpointvalue>0.75</tippingpointvalue>\\n  </element>\\n  <element id=\"4\">\\n    <combinationsecond>-1</combinationsecond>\\n    <values>[-0.2, 0.2]</values>\\n    <ycoord>125</ycoord>\\n    <policy_id>{\\'pump_capacity\\': 0, \\'summer_target\\': 0.2, \\'sluices_widening\\': 1}</policy_id>\\n    <color>clOlive</color>\\n    <combinationtype>ctNone</combinationtype>\\n    <id>4</id>\\n    <predecessorid>1</predecessorid>\\n    <predecessor>current_situation</predecessor>\\n    <caption>summer_target</caption>\\n    <tippingpointvalue>0.25</tippingpointvalue>\\n  </element>\\n  <element id=\"5\">\\n    <combinationsecond>3</combinationsecond>\\n    <ycoord>260</ycoord>\\n    <predecessorid>2</predecessorid>\\n    <values>[500]</values>\\n    <combined_to>sluices_widening</combined_to>\\n    <policy_id>{\\'pump_capacity\\': 500, \\'summer_target\\': -0.2, \\'sluices_widening\\': 2}</policy_id>\\n    <color>clMaroon</color>\\n    <combinationtype>ctCombine</combinationtype>\\n    <id>5</id>\\n    <predecessor>pump_capacity</predecessor>\\n    <caption>pump_capacity + sluices_widening</caption>\\n    <tippingpointvalue>0.9166666666666666</tippingpointvalue>\\n  </element>\\n  <element id=\"6\">\\n    <combinationsecond>4</combinationsecond>\\n    <ycoord>135</ycoord>\\n    <predecessorid>2</predecessorid>\\n    <values>[500]</values>\\n    <combined_to>summer_target</combined_to>\\n    <policy_id>{\\'pump_capacity\\': 500, \\'summer_target\\': 0.2, \\'sluices_widening\\': 1}</policy_id>\\n    <color>clMaroon</color>\\n    <combinationtype>ctCombine</combinationtype>\\n    <id>6</id>\\n    <predecessor>pump_capacity</predecessor>\\n    <caption>pump_capacity + summer_target</caption>\\n    <tippingpointvalue>0.9166666666666666</tippingpointvalue>\\n  </element>\\n  <element id=\"7\">\\n    <combinationsecond>4</combinationsecond>\\n    <ycoord>135</ycoord>\\n    <predecessorid>3</predecessorid>\\n    <values>[2]</values>\\n    <combined_to>summer_target</combined_to>\\n    <policy_id>{\\'pump_capacity\\': 0, \\'summer_target\\': 0.2, \\'sluices_widening\\': 2}</policy_id>\\n    <color>clNavy</color>\\n    <combinationtype>ctCombine</combinationtype>\\n    <id>7</id>\\n    <predecessor>sluices_widening</predecessor>\\n    <caption>sluices_widening + summer_target</caption>\\n    <tippingpointvalue>0.75</tippingpointvalue>\\n  </element>\\n</pathways>\\n<?xml version=\"1.0\" ?>\\n<graphsettings>\\n  <maxtippingpoint>2</maxtippingpoint>\\n  <xaxistitle>sea_level_shift</xaxistitle>\\n</graphsettings>\\n'"
      ]
     },
     "execution_count": 44,
     "metadata": {},
     "output_type": "execute_result"
    }
   ],
   "source": [
    "xml_str"
   ]
  },
  {
   "cell_type": "markdown",
   "metadata": {
    "deletable": true,
    "editable": true
   },
   "source": [
    "## Identify Adaptation Tipping Points, including observational uncertainty"
   ]
  },
  {
   "cell_type": "markdown",
   "metadata": {
    "deletable": true,
    "editable": true
   },
   "source": [
    "### Find ATP on the space of observable variables"
   ]
  },
  {
   "cell_type": "code",
   "execution_count": 45,
   "metadata": {
    "collapsed": false,
    "deletable": true,
    "editable": true
   },
   "outputs": [
    {
     "ename": "TypeError",
     "evalue": "data type not understood",
     "output_type": "error",
     "traceback": [
      "\u001b[0;31m---------------------------------------------------------------------------\u001b[0m",
      "\u001b[0;31mTypeError\u001b[0m                                 Traceback (most recent call last)",
      "\u001b[0;32m<ipython-input-45-220e9fc3261f>\u001b[0m in \u001b[0;36m<module>\u001b[0;34m()\u001b[0m\n\u001b[1;32m      5\u001b[0m \u001b[0;34m\u001b[0m\u001b[0m\n\u001b[1;32m      6\u001b[0m \u001b[0;34m\u001b[0m\u001b[0m\n\u001b[0;32m----> 7\u001b[0;31m \u001b[0mobs_unc_comatrix\u001b[0m \u001b[0;34m=\u001b[0m \u001b[0mnp\u001b[0m\u001b[0;34m.\u001b[0m\u001b[0mmatrix\u001b[0m\u001b[0;34m(\u001b[0m\u001b[0;34m[\u001b[0m\u001b[0mobs_unc_low_flow\u001b[0m\u001b[0;34m,\u001b[0m\u001b[0;36m0\u001b[0m\u001b[0;34m,\u001b[0m\u001b[0;36m0\u001b[0m\u001b[0;34m]\u001b[0m\u001b[0;34m,\u001b[0m\u001b[0;34m[\u001b[0m\u001b[0;36m0\u001b[0m\u001b[0;34m,\u001b[0m\u001b[0mobs_unc_peak_discharge\u001b[0m\u001b[0;34m,\u001b[0m\u001b[0;36m0\u001b[0m\u001b[0;34m]\u001b[0m\u001b[0;34m,\u001b[0m\u001b[0;34m[\u001b[0m\u001b[0;36m0\u001b[0m\u001b[0;34m,\u001b[0m\u001b[0;36m0\u001b[0m\u001b[0;34m,\u001b[0m\u001b[0mobs_unc_sea_level\u001b[0m\u001b[0;34m]\u001b[0m\u001b[0;34m)\u001b[0m\u001b[0;34m\u001b[0m\u001b[0m\n\u001b[0m",
      "\u001b[0;32m~/anaconda/lib/python3.5/site-packages/numpy/matrixlib/defmatrix.py\u001b[0m in \u001b[0;36m__new__\u001b[0;34m(subtype, data, dtype, copy)\u001b[0m\n\u001b[1;32m    234\u001b[0m \u001b[0;34m\u001b[0m\u001b[0m\n\u001b[1;32m    235\u001b[0m         \u001b[0;31m# now convert data to an array\u001b[0m\u001b[0;34m\u001b[0m\u001b[0;34m\u001b[0m\u001b[0m\n\u001b[0;32m--> 236\u001b[0;31m         \u001b[0marr\u001b[0m \u001b[0;34m=\u001b[0m \u001b[0mN\u001b[0m\u001b[0;34m.\u001b[0m\u001b[0marray\u001b[0m\u001b[0;34m(\u001b[0m\u001b[0mdata\u001b[0m\u001b[0;34m,\u001b[0m \u001b[0mdtype\u001b[0m\u001b[0;34m=\u001b[0m\u001b[0mdtype\u001b[0m\u001b[0;34m,\u001b[0m \u001b[0mcopy\u001b[0m\u001b[0;34m=\u001b[0m\u001b[0mcopy\u001b[0m\u001b[0;34m)\u001b[0m\u001b[0;34m\u001b[0m\u001b[0m\n\u001b[0m\u001b[1;32m    237\u001b[0m         \u001b[0mndim\u001b[0m \u001b[0;34m=\u001b[0m \u001b[0marr\u001b[0m\u001b[0;34m.\u001b[0m\u001b[0mndim\u001b[0m\u001b[0;34m\u001b[0m\u001b[0m\n\u001b[1;32m    238\u001b[0m         \u001b[0mshape\u001b[0m \u001b[0;34m=\u001b[0m \u001b[0marr\u001b[0m\u001b[0;34m.\u001b[0m\u001b[0mshape\u001b[0m\u001b[0;34m\u001b[0m\u001b[0m\n",
      "\u001b[0;31mTypeError\u001b[0m: data type not understood"
     ]
    }
   ],
   "source": [
    "obs_unc_low_flow = 10\n",
    "obs_unc_peak_discharge = 100 \n",
    "obs_unc_sea_level = 0.1\n",
    "\n",
    "\n",
    "\n",
    "obs_unc_comatrix = np.matrix([obs_unc_low_flow,0,0],[0,obs_unc_peak_discharge,0],[0,0,obs_unc_sea_level])"
   ]
  },
  {
   "cell_type": "code",
   "execution_count": null,
   "metadata": {
    "collapsed": true,
    "deletable": true,
    "editable": true
   },
   "outputs": [],
   "source": [
    "actions"
   ]
  },
  {
   "cell_type": "code",
   "execution_count": null,
   "metadata": {
    "collapsed": true,
    "deletable": true,
    "editable": true
   },
   "outputs": [],
   "source": []
  },
  {
   "cell_type": "code",
   "execution_count": null,
   "metadata": {
    "collapsed": true,
    "deletable": true,
    "editable": true
   },
   "outputs": [],
   "source": []
  },
  {
   "cell_type": "code",
   "execution_count": null,
   "metadata": {
    "collapsed": true,
    "deletable": true,
    "editable": true
   },
   "outputs": [],
   "source": [
    "import graphviz \n",
    "from graphviz_tree import *"
   ]
  },
  {
   "cell_type": "code",
   "execution_count": null,
   "metadata": {
    "collapsed": true,
    "deletable": true,
    "editable": true
   },
   "outputs": [],
   "source": [
    "test_new = False\n",
    "if test_new == True:\n",
    "    export_graphviz_func = export_graphviz_temp\n",
    "else:\n",
    "    export_graphviz_func = tree.export_graphviz"
   ]
  },
  {
   "cell_type": "code",
   "execution_count": null,
   "metadata": {
    "collapsed": true,
    "deletable": true,
    "editable": true
   },
   "outputs": [],
   "source": [
    "policies_names = []\n",
    "for policy in policy_success_ordinal.columns:\n",
    "    policies_names.append(policy.replace(',','\\n'))"
   ]
  },
  {
   "cell_type": "code",
   "execution_count": null,
   "metadata": {
    "collapsed": true,
    "deletable": true,
    "editable": true
   },
   "outputs": [],
   "source": [
    "class_names = list(policy_success_ordered.columns)\n",
    "class_names.append('None')\n",
    "class_names = [policy_name.replace(',','\\n') for policy_name in class_names ]"
   ]
  },
  {
   "cell_type": "code",
   "execution_count": null,
   "metadata": {
    "collapsed": true,
    "deletable": true,
    "editable": true
   },
   "outputs": [],
   "source": [
    "pathways = export_graphviz_func(clf, out_file=None, #max_depth=4,\n",
    "                                feature_names=scenarios_df.columns, \n",
    "                                class_names=class_names, \n",
    "                                filled=True,\n",
    "                                label = 'all',\n",
    "                                leaves_parallel =False,\n",
    "                                #node_ids=True,\n",
    "                                #rounded=True,\n",
    "                                #impurity = True, \n",
    "                                #proportion = True,\n",
    "                                rotate = True,\n",
    "                                precision = 3\n",
    "                                #,minimal_info=True\n",
    "                               )  \n",
    "pathways_rendered = graphviz.Source(pathways)\n",
    "pathways_rendered"
   ]
  },
  {
   "cell_type": "code",
   "execution_count": null,
   "metadata": {
    "collapsed": true,
    "deletable": true,
    "editable": true
   },
   "outputs": [],
   "source": [
    "\n",
    "cmap_name = 'my_list'\n",
    "for n_bin, ax in zip(n_bins, axs.ravel()):\n",
    "    # Create the colormap\n",
    "    cm = LinearSegmentedColormap.from_list(\n",
    "        cmap_name, colors, N=n_bin)\n",
    "    # Fewer bins will result in \"coarser\" colomap interpolation\n",
    "    im = ax.imshow(Z, interpolation='nearest', origin='lower', cmap=cm)\n",
    "    ax.set_title(\"N bins: %s\" % n_bin)\n",
    "    fig.colorbar(im)"
   ]
  },
  {
   "cell_type": "code",
   "execution_count": null,
   "metadata": {
    "collapsed": true,
    "deletable": true,
    "editable": true
   },
   "outputs": [],
   "source": [
    "import pylab as pl\n",
    "from matplotlib.colors import LinearSegmentedColormap\n",
    "\n",
    "\n",
    "max_cost = 340 * 1.3\n",
    "a = np.array([[0,max_cost]])\n",
    "pl.figure(figsize=(3, 10))\n",
    "\n",
    "colors = [(0, 0.7, 0),(0.7, 0, 0)]  # G -> R\n",
    "n_bins = 30\n",
    "color_map = LinearSegmentedColormap.from_list(cmap_name, colors, N=n_bins)\n",
    "img = pl.imshow(a, cmap=color_map)\n",
    "pl.gca().set_visible(False)\n",
    "cax = pl.axes([0, 1, 0.1, 1])\n",
    "pl.colorbar(cax=cax)\n",
    "plt.ylabel('Cost $[M- euro]$')\n",
    "pl.savefig(\"colorbar.pdf\")\n"
   ]
  },
  {
   "cell_type": "code",
   "execution_count": null,
   "metadata": {
    "collapsed": true,
    "deletable": true,
    "editable": true
   },
   "outputs": [],
   "source": [
    "cost_policy = 100\n",
    "color_for_policy = color_map(cost_policy/max_cost)[0:3]\n",
    "color_for_policy"
   ]
  },
  {
   "cell_type": "code",
   "execution_count": null,
   "metadata": {
    "collapsed": true,
    "deletable": true,
    "editable": true
   },
   "outputs": [],
   "source": [
    "from sklearn.datasets import load_iris\n",
    "iris = load_iris()\n",
    "clf_iris = tree.DecisionTreeClassifier()\n",
    "clf_iris.fit(iris.data, iris.target)\n"
   ]
  },
  {
   "cell_type": "code",
   "execution_count": null,
   "metadata": {
    "collapsed": true,
    "deletable": true,
    "editable": true
   },
   "outputs": [],
   "source": [
    "dot_data = tree.export_graphviz(clf, out_file=None, \n",
    "                         feature_names=iris.feature_names,  \n",
    "                         class_names=iris.target_names,  \n",
    "                         filled=True, rounded=True,  \n",
    "                         special_characters=True)  \n",
    "graph = graphviz.Source(dot_data)  \n",
    "graph "
   ]
  },
  {
   "cell_type": "code",
   "execution_count": null,
   "metadata": {
    "collapsed": true,
    "deletable": true,
    "editable": true
   },
   "outputs": [],
   "source": [
    "iris.target_names"
   ]
  },
  {
   "cell_type": "code",
   "execution_count": null,
   "metadata": {
    "collapsed": true,
    "deletable": true,
    "editable": true
   },
   "outputs": [],
   "source": [
    "# Parameters\n",
    "n_classes = 3\n",
    "plot_colors = \"ryb\"\n",
    "plot_step = 0.02\n",
    "\n",
    "# Load data\n",
    "from sklearn.datasets import load_iris\n",
    "\n",
    "\n",
    "iris = load_iris()\n",
    "\n",
    "plt.figure(figsize=(10,7))\n",
    "\n",
    "for pairidx, pair in enumerate([[0, 1], [0, 2], [0, 3],\n",
    "                                [1, 2], [1, 3], [2, 3]]):\n",
    "    # We only take the two corresponding features\n",
    "    X = iris.data[:, pair]\n",
    "    y = iris.target\n",
    "\n",
    "    # Train\n",
    "    clf = tree.DecisionTreeClassifier().fit(X, y)\n",
    "\n",
    "    # Plot the decision boundary\n",
    "    plt.subplot(2, 3, pairidx + 1)\n",
    "\n",
    "    x_min, x_max = X[:, 0].min() - 1, X[:, 0].max() + 1\n",
    "    y_min, y_max = X[:, 1].min() - 1, X[:, 1].max() + 1\n",
    "    xx, yy = np.meshgrid(np.arange(x_min, x_max, plot_step),\n",
    "                         np.arange(y_min, y_max, plot_step))\n",
    "    plt.tight_layout(h_pad=0.5, w_pad=0.5, pad=2.5)\n",
    "\n",
    "    Z = clf.predict(np.c_[xx.ravel(), yy.ravel()])\n",
    "    Z = Z.reshape(xx.shape)\n",
    "    cs = plt.contourf(xx, yy, Z, cmap=plt.cm.RdYlBu)\n",
    "\n",
    "    plt.xlabel(iris.feature_names[pair[0]])\n",
    "    plt.ylabel(iris.feature_names[pair[1]])\n",
    "\n",
    "    # Plot the training points\n",
    "    for i, color in zip(range(n_classes), plot_colors):\n",
    "        idx = np.where(y == i)\n",
    "        plt.scatter(X[idx, 0], X[idx, 1], c=color, label=iris.target_names[i],\n",
    "                    cmap=plt.cm.RdYlBu, edgecolor='black', s=15)\n",
    "        \n",
    "plt.suptitle(\"Decision surface of a decision tree using paired features\")\n",
    "plt.legend(loc=0)\n",
    "#plt.axis(\"tight\")"
   ]
  },
  {
   "cell_type": "code",
   "execution_count": null,
   "metadata": {
    "collapsed": true,
    "deletable": true,
    "editable": true
   },
   "outputs": [],
   "source": []
  },
  {
   "cell_type": "code",
   "execution_count": null,
   "metadata": {
    "collapsed": true,
    "deletable": true,
    "editable": true
   },
   "outputs": [],
   "source": []
  },
  {
   "cell_type": "code",
   "execution_count": null,
   "metadata": {
    "collapsed": true,
    "deletable": true,
    "editable": true
   },
   "outputs": [],
   "source": []
  },
  {
   "cell_type": "code",
   "execution_count": null,
   "metadata": {
    "collapsed": true,
    "deletable": true,
    "editable": true
   },
   "outputs": [],
   "source": []
  },
  {
   "cell_type": "code",
   "execution_count": null,
   "metadata": {
    "collapsed": true,
    "deletable": true,
    "editable": true
   },
   "outputs": [],
   "source": []
  },
  {
   "cell_type": "code",
   "execution_count": null,
   "metadata": {
    "collapsed": true,
    "deletable": true,
    "editable": true
   },
   "outputs": [],
   "source": []
  },
  {
   "cell_type": "code",
   "execution_count": null,
   "metadata": {
    "collapsed": true,
    "deletable": true,
    "editable": true
   },
   "outputs": [],
   "source": []
  },
  {
   "cell_type": "code",
   "execution_count": null,
   "metadata": {
    "collapsed": true,
    "deletable": true,
    "editable": true
   },
   "outputs": [],
   "source": [
    "actions\n"
   ]
  },
  {
   "cell_type": "code",
   "execution_count": null,
   "metadata": {
    "collapsed": true,
    "deletable": true,
    "editable": true
   },
   "outputs": [],
   "source": [
    "all_actions"
   ]
  },
  {
   "cell_type": "code",
   "execution_count": null,
   "metadata": {
    "collapsed": true,
    "deletable": true,
    "editable": true
   },
   "outputs": [],
   "source": []
  },
  {
   "cell_type": "code",
   "execution_count": null,
   "metadata": {
    "collapsed": true,
    "deletable": true,
    "editable": true
   },
   "outputs": [],
   "source": []
  },
  {
   "cell_type": "code",
   "execution_count": null,
   "metadata": {
    "collapsed": true,
    "deletable": true,
    "editable": true
   },
   "outputs": [],
   "source": []
  },
  {
   "cell_type": "code",
   "execution_count": null,
   "metadata": {
    "collapsed": true,
    "deletable": true,
    "editable": true
   },
   "outputs": [],
   "source": []
  },
  {
   "cell_type": "markdown",
   "metadata": {
    "deletable": true,
    "editable": true
   },
   "source": [
    "### Exploratory data analysis"
   ]
  },
  {
   "cell_type": "code",
   "execution_count": null,
   "metadata": {
    "collapsed": true,
    "deletable": true,
    "editable": true
   },
   "outputs": [],
   "source": [
    "# plot_area_success\n",
    "pos = -1\n",
    "print(policies[pos])\n",
    "policy_under_analysis = pd.DataFrame(success_per_policy.iloc[:,pos].rename(columns={policies[pos]:'policy'}))\n",
    "                                                              \n",
    "scenarios_df_success = scenarios_df.join(policy_under_analysis)\n",
    "    \n",
    "sns.pairplot(scenarios_df_success,hue=0)\n",
    "plt.title(policies[pos])"
   ]
  },
  {
   "cell_type": "code",
   "execution_count": null,
   "metadata": {
    "collapsed": true,
    "deletable": true,
    "editable": true
   },
   "outputs": [],
   "source": [
    "policies"
   ]
  },
  {
   "cell_type": "code",
   "execution_count": null,
   "metadata": {
    "collapsed": true,
    "deletable": true,
    "editable": true
   },
   "outputs": [],
   "source": [
    "var1 = 'sea_level_shift'\n",
    "var2 = 'peak_inflow_multiplier'\n",
    "\n",
    "policy = \"{'winter_target': -0.4, 'sluices_widening': 1}\"\n",
    "\n",
    "#for policy in policies:\n",
    "for policy in [policy]:\n",
    "    \n",
    "    scenarios_vs_success = scenarios_df.join(success_per_policy[policy].apply(int))\n",
    "    pivoted_success = scenarios_vs_success.pivot_table(index=var1,columns=var2,values=policy,aggfunc=np.sum) \n",
    "    pivoted_total = scenarios_vs_success.pivot_table(index=var1,columns=var2,values=policy,aggfunc='count')\n",
    "    frequency_success = pivoted_success / pivoted_total\n",
    "    # plotting\n",
    "    x,y = frequency_success.index, frequency_success.columns\n",
    "    X,Y = np.meshgrid(x,y)\n",
    "    levelsf=[0.2,1]\n",
    "    levels=[0.2,0.5,0.8]\n",
    "    linestyles = ['dotted','solid','dotted']\n",
    "    #plt1 = plt.contourf(X, Y, frequency_success.values,levelsf,label=policy,colors=policy_color[policy],linestyles = linestyles, linewidth = 5 ,alpha=0.4)#, cmap=plt.cm.jet);\n",
    "    plt2 = plt.contour(X, Y, frequency_success.values,levels,label=policy,colors=policy_color[policy],linestyles = linestyles, linewidth = 5 )#, cmap=plt.cm.jet);\n",
    "    \n",
    "plt.xlabel(var1)\n",
    "plt.ylabel(var2)\n"
   ]
  }
 ],
 "metadata": {
  "anaconda-cloud": {},
  "kernelspec": {
   "display_name": "Python [default]",
   "language": "python",
   "name": "python3"
  },
  "language_info": {
   "codemirror_mode": {
    "name": "ipython",
    "version": 3
   },
   "file_extension": ".py",
   "mimetype": "text/x-python",
   "name": "python",
   "nbconvert_exporter": "python",
   "pygments_lexer": "ipython3",
   "version": "3.5.6"
  }
 },
 "nbformat": 4,
 "nbformat_minor": 2
}
