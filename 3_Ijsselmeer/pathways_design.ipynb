{
 "cells": [
  {
   "cell_type": "markdown",
   "metadata": {},
   "source": [
    "# Adaptive - Ijsselmeer\n",
    "\n",
    "Author: Luciano Raso, Delft University of Technology, Delft, The Netherlands. Section of Policy Analysis  \n",
    "email: l.raso@tudelft.nl"
   ]
  },
  {
   "cell_type": "code",
   "execution_count": 1,
   "metadata": {},
   "outputs": [
    {
     "name": "stdout",
     "output_type": "stream",
     "text": [
      "/Users/lraso/Documents/working directories/Monitoring_for_DAPP/Experiments\n"
     ]
    }
   ],
   "source": [
    "cd .."
   ]
  },
  {
   "cell_type": "code",
   "execution_count": 2,
   "metadata": {},
   "outputs": [],
   "source": [
    "import pandas as pd\n",
    "import numpy as np\n",
    "import matplotlib.pyplot as plt\n",
    "from matplotlib.pyplot import cm\n",
    "import seaborn as sns\n",
    "import ast\n",
    "from pathways.pathways import get_policy_def, find_pathway\n",
    "from ema_workbench import load_results\n",
    "\n",
    "\n",
    "plt.style.use('default')\n",
    "%matplotlib inline\n",
    "%config InlineBackend.figure_format = 'retina'\n",
    "from IPython.core.interactiveshell import InteractiveShell\n",
    "InteractiveShell.ast_node_interactivity = \"all\""
   ]
  },
  {
   "cell_type": "markdown",
   "metadata": {},
   "source": [
    "#### Load data"
   ]
  },
  {
   "cell_type": "code",
   "execution_count": 3,
   "metadata": {},
   "outputs": [
    {
     "data": {
      "text/plain": [
       "2744"
      ]
     },
     "execution_count": 3,
     "metadata": {},
     "output_type": "execute_result"
    },
    {
     "data": {
      "text/html": [
       "<div>\n",
       "<style scoped>\n",
       "    .dataframe tbody tr th:only-of-type {\n",
       "        vertical-align: middle;\n",
       "    }\n",
       "\n",
       "    .dataframe tbody tr th {\n",
       "        vertical-align: top;\n",
       "    }\n",
       "\n",
       "    .dataframe thead th {\n",
       "        text-align: right;\n",
       "    }\n",
       "</style>\n",
       "<table border=\"1\" class=\"dataframe\">\n",
       "  <thead>\n",
       "    <tr style=\"text-align: right;\">\n",
       "      <th></th>\n",
       "      <th>low_flow_shift</th>\n",
       "      <th>peak_inflow_multiplier</th>\n",
       "      <th>sea_level_shift</th>\n",
       "      <th>pump_capacity</th>\n",
       "      <th>sluices_widening</th>\n",
       "      <th>summer_target</th>\n",
       "      <th>scenario_id</th>\n",
       "      <th>policy</th>\n",
       "      <th>model</th>\n",
       "      <th>demand deficit relative</th>\n",
       "      <th>dike failure frequency</th>\n",
       "    </tr>\n",
       "  </thead>\n",
       "  <tbody>\n",
       "    <tr>\n",
       "      <th>0</th>\n",
       "      <td>0.0</td>\n",
       "      <td>1.0</td>\n",
       "      <td>0.000000</td>\n",
       "      <td>0</td>\n",
       "      <td>1</td>\n",
       "      <td>-0.2</td>\n",
       "      <td>0</td>\n",
       "      <td>{'pump_capacity': 0, 'summer_target': -0.2, 's...</td>\n",
       "      <td>Ijsselmeer</td>\n",
       "      <td>0.014309</td>\n",
       "      <td>3714.848248</td>\n",
       "    </tr>\n",
       "    <tr>\n",
       "      <th>1</th>\n",
       "      <td>0.0</td>\n",
       "      <td>1.0</td>\n",
       "      <td>0.166667</td>\n",
       "      <td>0</td>\n",
       "      <td>1</td>\n",
       "      <td>-0.2</td>\n",
       "      <td>1</td>\n",
       "      <td>{'pump_capacity': 0, 'summer_target': -0.2, 's...</td>\n",
       "      <td>Ijsselmeer</td>\n",
       "      <td>0.014309</td>\n",
       "      <td>3009.328920</td>\n",
       "    </tr>\n",
       "    <tr>\n",
       "      <th>2</th>\n",
       "      <td>0.0</td>\n",
       "      <td>1.0</td>\n",
       "      <td>0.333333</td>\n",
       "      <td>0</td>\n",
       "      <td>1</td>\n",
       "      <td>-0.2</td>\n",
       "      <td>2</td>\n",
       "      <td>{'pump_capacity': 0, 'summer_target': -0.2, 's...</td>\n",
       "      <td>Ijsselmeer</td>\n",
       "      <td>0.014309</td>\n",
       "      <td>2034.670790</td>\n",
       "    </tr>\n",
       "    <tr>\n",
       "      <th>3</th>\n",
       "      <td>0.0</td>\n",
       "      <td>1.0</td>\n",
       "      <td>0.500000</td>\n",
       "      <td>0</td>\n",
       "      <td>1</td>\n",
       "      <td>-0.2</td>\n",
       "      <td>3</td>\n",
       "      <td>{'pump_capacity': 0, 'summer_target': -0.2, 's...</td>\n",
       "      <td>Ijsselmeer</td>\n",
       "      <td>0.014201</td>\n",
       "      <td>1488.848525</td>\n",
       "    </tr>\n",
       "    <tr>\n",
       "      <th>4</th>\n",
       "      <td>0.0</td>\n",
       "      <td>1.0</td>\n",
       "      <td>0.666667</td>\n",
       "      <td>0</td>\n",
       "      <td>1</td>\n",
       "      <td>-0.2</td>\n",
       "      <td>4</td>\n",
       "      <td>{'pump_capacity': 0, 'summer_target': -0.2, 's...</td>\n",
       "      <td>Ijsselmeer</td>\n",
       "      <td>0.014001</td>\n",
       "      <td>1052.332495</td>\n",
       "    </tr>\n",
       "  </tbody>\n",
       "</table>\n",
       "</div>"
      ],
      "text/plain": [
       "   low_flow_shift  peak_inflow_multiplier  sea_level_shift  pump_capacity  \\\n",
       "0             0.0                     1.0         0.000000              0   \n",
       "1             0.0                     1.0         0.166667              0   \n",
       "2             0.0                     1.0         0.333333              0   \n",
       "3             0.0                     1.0         0.500000              0   \n",
       "4             0.0                     1.0         0.666667              0   \n",
       "\n",
       "   sluices_widening  summer_target  scenario_id  \\\n",
       "0                 1           -0.2            0   \n",
       "1                 1           -0.2            1   \n",
       "2                 1           -0.2            2   \n",
       "3                 1           -0.2            3   \n",
       "4                 1           -0.2            4   \n",
       "\n",
       "                                              policy       model  \\\n",
       "0  {'pump_capacity': 0, 'summer_target': -0.2, 's...  Ijsselmeer   \n",
       "1  {'pump_capacity': 0, 'summer_target': -0.2, 's...  Ijsselmeer   \n",
       "2  {'pump_capacity': 0, 'summer_target': -0.2, 's...  Ijsselmeer   \n",
       "3  {'pump_capacity': 0, 'summer_target': -0.2, 's...  Ijsselmeer   \n",
       "4  {'pump_capacity': 0, 'summer_target': -0.2, 's...  Ijsselmeer   \n",
       "\n",
       "   demand deficit relative  dike failure frequency  \n",
       "0                 0.014309             3714.848248  \n",
       "1                 0.014309             3009.328920  \n",
       "2                 0.014309             2034.670790  \n",
       "3                 0.014201             1488.848525  \n",
       "4                 0.014001             1052.332495  "
      ]
     },
     "execution_count": 3,
     "metadata": {},
     "output_type": "execute_result"
    }
   ],
   "source": [
    "# load data from EMA\n",
    "results_df = pd.read_csv('data/Ijsselmeer/2018_10_18_results.csv',index_col=0)\n",
    "len(results_df)\n",
    "results_df.head()"
   ]
  },
  {
   "cell_type": "code",
   "execution_count": 4,
   "metadata": {},
   "outputs": [],
   "source": [
    "actions = [{'caption':'pump_capacity', 'color': 'red'},\n",
    "           {'caption':'summer_target', 'color': 'blue'},\n",
    "           {'caption':'sluices_widening', 'color': 'yellow'}]"
   ]
  },
  {
   "cell_type": "code",
   "execution_count": 5,
   "metadata": {},
   "outputs": [],
   "source": [
    "pathways = []\n",
    "for i, action_j in enumerate(actions):\n",
    "    for i in range(len(actions)):\n",
    "        pathways.append({'caption': action_j['caption'] +' + '+actions[i]['caption'] })"
   ]
  },
  {
   "cell_type": "code",
   "execution_count": 6,
   "metadata": {},
   "outputs": [],
   "source": [
    "objectives = ['dike failure frequency','demand deficit relative']"
   ]
  },
  {
   "cell_type": "code",
   "execution_count": 7,
   "metadata": {},
   "outputs": [],
   "source": [
    "decreasing_actions = []#['winter_target'] # list actions whose effectiveness increase with decreasing of action value, default increasing\n",
    "actions_order = {}\n",
    "for action in actions:\n",
    "    direction = -1 if action in decreasing_actions else 1\n",
    "    action['values'] = np.sort(results_df[action['caption']].unique())[::direction].tolist()"
   ]
  },
  {
   "cell_type": "code",
   "execution_count": 8,
   "metadata": {},
   "outputs": [],
   "source": [
    "# var new_var correspondence\n",
    "name_crit_unc ={'low_flow_shift':'low flow reduction $[m^3/s]$',\n",
    "      'peak_inflow_multiplier': 'max discharge increase $[\\%]$ ',\n",
    "      'sea_level_shift': 'sea level rise $[m]$',\n",
    "      'wind_multiplier' : 'change wind speed, $[\\%]$ '}\n",
    "     # 'winter_target': 'winter target level $[mNAP]$',}\n",
    "    \n",
    "    "
   ]
  },
  {
   "cell_type": "code",
   "execution_count": 9,
   "metadata": {},
   "outputs": [],
   "source": [
    "# rename\n",
    "old_var_name = results_df.columns.copy(deep=True)\n",
    "new_var_name = [ name_crit_unc[var] if var in name_crit_unc else var for var in old_var_name  ]\n",
    "results_df.columns = new_var_name"
   ]
  },
  {
   "cell_type": "markdown",
   "metadata": {},
   "source": [
    "### define scenarios data"
   ]
  },
  {
   "cell_type": "code",
   "execution_count": 19,
   "metadata": {},
   "outputs": [
    {
     "data": {
      "text/plain": [
       "(343, 3)"
      ]
     },
     "execution_count": 19,
     "metadata": {},
     "output_type": "execute_result"
    }
   ],
   "source": [
    "n_critical_uncertainties = len(set(new_var_name) - set(old_var_name))\n",
    "scenarios_df = results_df.iloc[results_df['scenario_id'].unique(),0:n_critical_uncertainties]\n",
    "scenarios_df.shape"
   ]
  },
  {
   "cell_type": "markdown",
   "metadata": {},
   "source": [
    "### Define policy success"
   ]
  },
  {
   "cell_type": "code",
   "execution_count": 11,
   "metadata": {},
   "outputs": [],
   "source": [
    "policy_success_threshold = {}\n",
    "policy_success_threshold['dike failure frequency'] = 1900\n",
    "policy_success_threshold['demand deficit relative'] = 0.02 # 10 %\n",
    "\n",
    "sign = {} # negative is the objective to be minimized, positive if to be maximized \n",
    "sign['dike failure frequency'] = -1\n",
    "sign['demand deficit relative'] = +1"
   ]
  },
  {
   "cell_type": "markdown",
   "metadata": {},
   "source": [
    "### Identify policy success scenarios"
   ]
  },
  {
   "cell_type": "code",
   "execution_count": 12,
   "metadata": {},
   "outputs": [],
   "source": [
    "policy_success = pd.DataFrame(results_df[['policy','scenario_id']])\n",
    "for objective in objectives:\n",
    "    policy_success[objective] = sign[objective] * results_df[objective] <= sign [objective] * policy_success_threshold[objective]"
   ]
  },
  {
   "cell_type": "markdown",
   "metadata": {},
   "source": [
    "#### overall success of policy success is if all criteria are satisfied "
   ]
  },
  {
   "cell_type": "code",
   "execution_count": 13,
   "metadata": {},
   "outputs": [],
   "source": [
    "policy_success['overall']= policy_success[objectives].all(axis=1)"
   ]
  },
  {
   "cell_type": "markdown",
   "metadata": {},
   "source": [
    "#### Rearrange data in scenarios (rows) vs policies (columns)"
   ]
  },
  {
   "cell_type": "code",
   "execution_count": 14,
   "metadata": {},
   "outputs": [],
   "source": [
    "success_per_policy = policy_success.pivot(columns='policy', values='overall', index='scenario_id')   "
   ]
  },
  {
   "cell_type": "code",
   "execution_count": 15,
   "metadata": {},
   "outputs": [
    {
     "data": {
      "text/plain": [
       "policy\n",
       "{'pump_capacity': 0, 'summer_target': -0.2, 'sluices_widening': 1}       66\n",
       "{'pump_capacity': 0, 'summer_target': -0.2, 'sluices_widening': 2}      202\n",
       "{'pump_capacity': 0, 'summer_target': 0.2, 'sluices_widening': 1}       122\n",
       "{'pump_capacity': 0, 'summer_target': 0.2, 'sluices_widening': 2}       262\n",
       "{'pump_capacity': 500, 'summer_target': -0.2, 'sluices_widening': 1}    231\n",
       "{'pump_capacity': 500, 'summer_target': -0.2, 'sluices_widening': 2}    231\n",
       "{'pump_capacity': 500, 'summer_target': 0.2, 'sluices_widening': 1}     305\n",
       "{'pump_capacity': 500, 'summer_target': 0.2, 'sluices_widening': 2}     301\n",
       "dtype: int64"
      ]
     },
     "execution_count": 15,
     "metadata": {},
     "output_type": "execute_result"
    }
   ],
   "source": [
    "success_per_policy.sum()"
   ]
  },
  {
   "cell_type": "markdown",
   "metadata": {},
   "source": [
    "### Exploratory data analysis"
   ]
  },
  {
   "cell_type": "code",
   "execution_count": 16,
   "metadata": {},
   "outputs": [
    {
     "name": "stdout",
     "output_type": "stream",
     "text": [
      "{'pump_capacity': 500, 'summer_target': 0.2, 'sluices_widening': 2}\n"
     ]
    },
    {
     "name": "stderr",
     "output_type": "stream",
     "text": [
      "/Users/lraso/anaconda/lib/python3.5/site-packages/statsmodels/nonparametric/kde.py:494: RuntimeWarning: invalid value encountered in true_divide\n",
      "  binned = fast_linbin(X,a,b,gridsize)/(delta*nobs)\n",
      "/Users/lraso/anaconda/lib/python3.5/site-packages/statsmodels/nonparametric/kdetools.py:34: RuntimeWarning: invalid value encountered in double_scalars\n",
      "  FAC1 = 2*(np.pi*bw/RANGE)**2\n"
     ]
    },
    {
     "data": {
      "text/plain": [
       "<seaborn.axisgrid.PairGrid at 0x111646198>"
      ]
     },
     "execution_count": 16,
     "metadata": {},
     "output_type": "execute_result"
    },
    {
     "data": {
      "text/plain": [
       "Text(0.5,1,\"{'pump_capacity': 500, 'summer_target': 0.2, 'sluices_widening': 2}\")"
      ]
     },
     "execution_count": 16,
     "metadata": {},
     "output_type": "execute_result"
    },
    {
     "data": {
      "image/png": "[encoded data removed]",
      "text/plain": [
       "<Figure size 782.125x720 with 20 Axes>"
      ]
     },
     "metadata": {
      "image/png": {
       "height": 705,
       "width": 845
      }
     },
     "output_type": "display_data"
    }
   ],
   "source": [
    "# plot_area_success\n",
    "policy = success_per_policy.columns\n",
    "pos = -1\n",
    "print(policy[pos])\n",
    "policy_under_analysis = pd.DataFrame(success_per_policy.iloc[:,pos].rename(columns={policy[pos]:'policy'}))\n",
    "                                                              \n",
    "scenarios_df_success = scenarios_df.join(policy_under_analysis)\n",
    "    \n",
    "sns.pairplot(scenarios_df_success,hue=0)\n",
    "plt.title(policy[pos])"
   ]
  },
  {
   "cell_type": "code",
   "execution_count": 17,
   "metadata": {},
   "outputs": [
    {
     "ename": "NameError",
     "evalue": "name 'policies' is not defined",
     "output_type": "error",
     "traceback": [
      "\u001b[0;31m---------------------------------------------------------------------------\u001b[0m",
      "\u001b[0;31mNameError\u001b[0m                                 Traceback (most recent call last)",
      "\u001b[0;32m<ipython-input-17-657e21dbb280>\u001b[0m in \u001b[0;36m<module>\u001b[0;34m()\u001b[0m\n\u001b[0;32m----> 1\u001b[0;31m \u001b[0mpolicies\u001b[0m\u001b[0;34m\u001b[0m\u001b[0m\n\u001b[0m",
      "\u001b[0;31mNameError\u001b[0m: name 'policies' is not defined"
     ]
    }
   ],
   "source": [
    "policies"
   ]
  },
  {
   "cell_type": "markdown",
   "metadata": {},
   "source": [
    "#### Policy colors setting"
   ]
  },
  {
   "cell_type": "code",
   "execution_count": null,
   "metadata": {},
   "outputs": [],
   "source": [
    "policy_color = {\"{'pump_capacity': 0, 'summer_target': -0.2, 'sluices_widening': 2}\":'',\n",
    " \"{'pump_capacity': 500, 'summer_target': 0.2, 'sluices_widening': 1}\":'',\n",
    " \"{'pump_capacity': 500, 'summer_target': 0.2, 'sluices_widening': 2}\":'',\n",
    " \"{'pump_capacity': 0, 'summer_target': 0.2, 'sluices_widening': 1}\":'blue',\n",
    " \"{'pump_capacity': 0, 'summer_target': -0.2, 'sluices_widening': 1}\":'gray',\n",
    " \"{'pump_capacity': 500, 'summer_target': -0.2, 'sluices_widening': 1}\":'red',\n",
    " \"{'pump_capacity': 500, 'summer_target': -0.2, 'sluices_widening': 2}\":'',\n",
    " \"{'pump_capacity': 0, 'summer_target': 0.2, 'sluices_widening': 2}\":''}"
   ]
  },
  {
   "cell_type": "code",
   "execution_count": null,
   "metadata": {},
   "outputs": [],
   "source": [
    "list_policies = list(policies.keys())\n",
    "list_policies"
   ]
  },
  {
   "cell_type": "raw",
   "metadata": {},
   "source": []
  },
  {
   "cell_type": "code",
   "execution_count": null,
   "metadata": {},
   "outputs": [],
   "source": [
    "policy_ua = [list_policies[i] for i in [0,2]]\n",
    "policy_color = dict(zip(policy_ua,['gray','red','green']))\n",
    "policy_ua,policy_color"
   ]
  },
  {
   "cell_type": "code",
   "execution_count": null,
   "metadata": {},
   "outputs": [],
   "source": [
    "var1 = 'sea_level_shift'\n",
    "var2 = 'peak_inflow_multiplier'\n",
    "\n",
    "policy = \"{'winter_target': -0.4, 'sluices_widening': 1}\"\n",
    "\n",
    "#for policy in policies:\n",
    "for policy in policy_ua:\n",
    "    \n",
    "    scenarios_vs_success = scenarios_df.join(success_per_policy[policy].apply(int))\n",
    "    pivoted_success = scenarios_vs_success.pivot_table(index=var1,columns=var2,values=policy,aggfunc=np.sum) \n",
    "    pivoted_total = scenarios_vs_success.pivot_table(index=var1,columns=var2,values=policy,aggfunc='count')\n",
    "    frequency_success = pivoted_success / pivoted_total\n",
    "    # plotting\n",
    "    x,y = frequency_success.index, frequency_success.columns\n",
    "    X,Y = np.meshgrid(x,y)\n",
    "    levelsf=[0.2,1]\n",
    "    levels=[0.2,0.5,0.8]\n",
    "    linestyles = ['dotted','solid','dotted']\n",
    "    #plt1 = plt.contourf(X, Y, frequency_success.values,levelsf,label=policy,colors=policy_color[policy],linestyles = linestyles, linewidth = 5 ,alpha=0.4)#, cmap=plt.cm.jet);\n",
    "    plt2 = plt.contour(X, Y, frequency_success.values,levels,label=policy,colors=policy_color[policy],linestyles = linestyles, linewidth = 5 )#, cmap=plt.cm.jet);\n",
    "    \n",
    "plt.xlabel(var1)\n",
    "plt.ylabel(var2)\n"
   ]
  },
  {
   "cell_type": "code",
   "execution_count": null,
   "metadata": {},
   "outputs": [],
   "source": [
    "scenarios_vs_success[var1].unique()\n",
    "var1"
   ]
  },
  {
   "cell_type": "code",
   "execution_count": null,
   "metadata": {},
   "outputs": [],
   "source": [
    "frequency_success"
   ]
  },
  {
   "cell_type": "markdown",
   "metadata": {},
   "source": [
    "### Define pathways \n",
    "#### ($\\forall$ policy)"
   ]
  },
  {
   "cell_type": "code",
   "execution_count": null,
   "metadata": {},
   "outputs": [],
   "source": [
    "for policy in policies:\n",
    "    print(policy)\n",
    "    policies[policy]['pathways'] = find_pathway(policy,policies,actions_order)\n",
    "    print(policies[policy]['pathways'])"
   ]
  },
  {
   "cell_type": "markdown",
   "metadata": {},
   "source": [
    "### Identify pathways success scenarios"
   ]
  },
  {
   "cell_type": "code",
   "execution_count": null,
   "metadata": {},
   "outputs": [],
   "source": [
    "success_per_pathway = success_per_policy.copy()\n",
    "\n",
    "for policy in success_per_policy:\n",
    "    success_per_pathway[policy] = success_per_policy[policies[policy]['pathways']].any(axis=1)"
   ]
  },
  {
   "cell_type": "code",
   "execution_count": 20,
   "metadata": {},
   "outputs": [
    {
     "data": {
      "text/html": [
       "<div>\n",
       "<style scoped>\n",
       "    .dataframe tbody tr th:only-of-type {\n",
       "        vertical-align: middle;\n",
       "    }\n",
       "\n",
       "    .dataframe tbody tr th {\n",
       "        vertical-align: top;\n",
       "    }\n",
       "\n",
       "    .dataframe thead th {\n",
       "        text-align: right;\n",
       "    }\n",
       "</style>\n",
       "<table border=\"1\" class=\"dataframe\">\n",
       "  <thead>\n",
       "    <tr style=\"text-align: right;\">\n",
       "      <th>policy</th>\n",
       "      <th>{'pump_capacity': 0, 'summer_target': -0.2, 'sluices_widening': 1}</th>\n",
       "      <th>{'pump_capacity': 0, 'summer_target': -0.2, 'sluices_widening': 2}</th>\n",
       "      <th>{'pump_capacity': 0, 'summer_target': 0.2, 'sluices_widening': 1}</th>\n",
       "      <th>{'pump_capacity': 0, 'summer_target': 0.2, 'sluices_widening': 2}</th>\n",
       "      <th>{'pump_capacity': 500, 'summer_target': -0.2, 'sluices_widening': 1}</th>\n",
       "      <th>{'pump_capacity': 500, 'summer_target': -0.2, 'sluices_widening': 2}</th>\n",
       "      <th>{'pump_capacity': 500, 'summer_target': 0.2, 'sluices_widening': 1}</th>\n",
       "      <th>{'pump_capacity': 500, 'summer_target': 0.2, 'sluices_widening': 2}</th>\n",
       "    </tr>\n",
       "    <tr>\n",
       "      <th>scenario_id</th>\n",
       "      <th></th>\n",
       "      <th></th>\n",
       "      <th></th>\n",
       "      <th></th>\n",
       "      <th></th>\n",
       "      <th></th>\n",
       "      <th></th>\n",
       "      <th></th>\n",
       "    </tr>\n",
       "  </thead>\n",
       "  <tbody>\n",
       "    <tr>\n",
       "      <th>0</th>\n",
       "      <td>True</td>\n",
       "      <td>True</td>\n",
       "      <td>True</td>\n",
       "      <td>True</td>\n",
       "      <td>True</td>\n",
       "      <td>True</td>\n",
       "      <td>True</td>\n",
       "      <td>True</td>\n",
       "    </tr>\n",
       "    <tr>\n",
       "      <th>1</th>\n",
       "      <td>True</td>\n",
       "      <td>True</td>\n",
       "      <td>True</td>\n",
       "      <td>True</td>\n",
       "      <td>True</td>\n",
       "      <td>True</td>\n",
       "      <td>True</td>\n",
       "      <td>True</td>\n",
       "    </tr>\n",
       "    <tr>\n",
       "      <th>2</th>\n",
       "      <td>True</td>\n",
       "      <td>True</td>\n",
       "      <td>True</td>\n",
       "      <td>True</td>\n",
       "      <td>True</td>\n",
       "      <td>True</td>\n",
       "      <td>True</td>\n",
       "      <td>True</td>\n",
       "    </tr>\n",
       "    <tr>\n",
       "      <th>3</th>\n",
       "      <td>False</td>\n",
       "      <td>True</td>\n",
       "      <td>True</td>\n",
       "      <td>True</td>\n",
       "      <td>True</td>\n",
       "      <td>True</td>\n",
       "      <td>True</td>\n",
       "      <td>True</td>\n",
       "    </tr>\n",
       "    <tr>\n",
       "      <th>4</th>\n",
       "      <td>False</td>\n",
       "      <td>False</td>\n",
       "      <td>False</td>\n",
       "      <td>True</td>\n",
       "      <td>True</td>\n",
       "      <td>True</td>\n",
       "      <td>True</td>\n",
       "      <td>True</td>\n",
       "    </tr>\n",
       "    <tr>\n",
       "      <th>5</th>\n",
       "      <td>False</td>\n",
       "      <td>False</td>\n",
       "      <td>False</td>\n",
       "      <td>True</td>\n",
       "      <td>True</td>\n",
       "      <td>True</td>\n",
       "      <td>True</td>\n",
       "      <td>True</td>\n",
       "    </tr>\n",
       "    <tr>\n",
       "      <th>6</th>\n",
       "      <td>False</td>\n",
       "      <td>False</td>\n",
       "      <td>False</td>\n",
       "      <td>False</td>\n",
       "      <td>True</td>\n",
       "      <td>True</td>\n",
       "      <td>True</td>\n",
       "      <td>True</td>\n",
       "    </tr>\n",
       "    <tr>\n",
       "      <th>7</th>\n",
       "      <td>True</td>\n",
       "      <td>True</td>\n",
       "      <td>True</td>\n",
       "      <td>True</td>\n",
       "      <td>True</td>\n",
       "      <td>True</td>\n",
       "      <td>True</td>\n",
       "      <td>True</td>\n",
       "    </tr>\n",
       "    <tr>\n",
       "      <th>8</th>\n",
       "      <td>True</td>\n",
       "      <td>True</td>\n",
       "      <td>True</td>\n",
       "      <td>True</td>\n",
       "      <td>True</td>\n",
       "      <td>True</td>\n",
       "      <td>True</td>\n",
       "      <td>True</td>\n",
       "    </tr>\n",
       "    <tr>\n",
       "      <th>9</th>\n",
       "      <td>False</td>\n",
       "      <td>True</td>\n",
       "      <td>True</td>\n",
       "      <td>True</td>\n",
       "      <td>True</td>\n",
       "      <td>True</td>\n",
       "      <td>True</td>\n",
       "      <td>True</td>\n",
       "    </tr>\n",
       "    <tr>\n",
       "      <th>10</th>\n",
       "      <td>False</td>\n",
       "      <td>True</td>\n",
       "      <td>False</td>\n",
       "      <td>True</td>\n",
       "      <td>True</td>\n",
       "      <td>True</td>\n",
       "      <td>True</td>\n",
       "      <td>True</td>\n",
       "    </tr>\n",
       "    <tr>\n",
       "      <th>11</th>\n",
       "      <td>False</td>\n",
       "      <td>False</td>\n",
       "      <td>False</td>\n",
       "      <td>True</td>\n",
       "      <td>True</td>\n",
       "      <td>True</td>\n",
       "      <td>True</td>\n",
       "      <td>True</td>\n",
       "    </tr>\n",
       "    <tr>\n",
       "      <th>12</th>\n",
       "      <td>False</td>\n",
       "      <td>False</td>\n",
       "      <td>False</td>\n",
       "      <td>False</td>\n",
       "      <td>True</td>\n",
       "      <td>True</td>\n",
       "      <td>True</td>\n",
       "      <td>True</td>\n",
       "    </tr>\n",
       "    <tr>\n",
       "      <th>13</th>\n",
       "      <td>False</td>\n",
       "      <td>False</td>\n",
       "      <td>False</td>\n",
       "      <td>False</td>\n",
       "      <td>True</td>\n",
       "      <td>False</td>\n",
       "      <td>True</td>\n",
       "      <td>True</td>\n",
       "    </tr>\n",
       "    <tr>\n",
       "      <th>14</th>\n",
       "      <td>True</td>\n",
       "      <td>True</td>\n",
       "      <td>True</td>\n",
       "      <td>True</td>\n",
       "      <td>True</td>\n",
       "      <td>True</td>\n",
       "      <td>True</td>\n",
       "      <td>True</td>\n",
       "    </tr>\n",
       "    <tr>\n",
       "      <th>15</th>\n",
       "      <td>True</td>\n",
       "      <td>True</td>\n",
       "      <td>True</td>\n",
       "      <td>True</td>\n",
       "      <td>True</td>\n",
       "      <td>True</td>\n",
       "      <td>True</td>\n",
       "      <td>True</td>\n",
       "    </tr>\n",
       "    <tr>\n",
       "      <th>16</th>\n",
       "      <td>False</td>\n",
       "      <td>True</td>\n",
       "      <td>True</td>\n",
       "      <td>True</td>\n",
       "      <td>True</td>\n",
       "      <td>True</td>\n",
       "      <td>True</td>\n",
       "      <td>True</td>\n",
       "    </tr>\n",
       "    <tr>\n",
       "      <th>17</th>\n",
       "      <td>False</td>\n",
       "      <td>True</td>\n",
       "      <td>False</td>\n",
       "      <td>True</td>\n",
       "      <td>True</td>\n",
       "      <td>True</td>\n",
       "      <td>True</td>\n",
       "      <td>True</td>\n",
       "    </tr>\n",
       "    <tr>\n",
       "      <th>18</th>\n",
       "      <td>False</td>\n",
       "      <td>False</td>\n",
       "      <td>False</td>\n",
       "      <td>True</td>\n",
       "      <td>True</td>\n",
       "      <td>True</td>\n",
       "      <td>True</td>\n",
       "      <td>True</td>\n",
       "    </tr>\n",
       "    <tr>\n",
       "      <th>19</th>\n",
       "      <td>False</td>\n",
       "      <td>False</td>\n",
       "      <td>False</td>\n",
       "      <td>False</td>\n",
       "      <td>True</td>\n",
       "      <td>True</td>\n",
       "      <td>True</td>\n",
       "      <td>True</td>\n",
       "    </tr>\n",
       "    <tr>\n",
       "      <th>20</th>\n",
       "      <td>False</td>\n",
       "      <td>False</td>\n",
       "      <td>False</td>\n",
       "      <td>False</td>\n",
       "      <td>False</td>\n",
       "      <td>False</td>\n",
       "      <td>True</td>\n",
       "      <td>True</td>\n",
       "    </tr>\n",
       "    <tr>\n",
       "      <th>21</th>\n",
       "      <td>True</td>\n",
       "      <td>True</td>\n",
       "      <td>True</td>\n",
       "      <td>True</td>\n",
       "      <td>True</td>\n",
       "      <td>True</td>\n",
       "      <td>True</td>\n",
       "      <td>True</td>\n",
       "    </tr>\n",
       "    <tr>\n",
       "      <th>22</th>\n",
       "      <td>True</td>\n",
       "      <td>True</td>\n",
       "      <td>True</td>\n",
       "      <td>True</td>\n",
       "      <td>True</td>\n",
       "      <td>True</td>\n",
       "      <td>True</td>\n",
       "      <td>True</td>\n",
       "    </tr>\n",
       "    <tr>\n",
       "      <th>23</th>\n",
       "      <td>False</td>\n",
       "      <td>True</td>\n",
       "      <td>True</td>\n",
       "      <td>True</td>\n",
       "      <td>True</td>\n",
       "      <td>True</td>\n",
       "      <td>True</td>\n",
       "      <td>True</td>\n",
       "    </tr>\n",
       "    <tr>\n",
       "      <th>24</th>\n",
       "      <td>False</td>\n",
       "      <td>True</td>\n",
       "      <td>False</td>\n",
       "      <td>True</td>\n",
       "      <td>True</td>\n",
       "      <td>True</td>\n",
       "      <td>True</td>\n",
       "      <td>True</td>\n",
       "    </tr>\n",
       "  </tbody>\n",
       "</table>\n",
       "</div>"
      ],
      "text/plain": [
       "policy       {'pump_capacity': 0, 'summer_target': -0.2, 'sluices_widening': 1}  \\\n",
       "scenario_id                                                                       \n",
       "0                                                         True                    \n",
       "1                                                         True                    \n",
       "2                                                         True                    \n",
       "3                                                        False                    \n",
       "4                                                        False                    \n",
       "5                                                        False                    \n",
       "6                                                        False                    \n",
       "7                                                         True                    \n",
       "8                                                         True                    \n",
       "9                                                        False                    \n",
       "10                                                       False                    \n",
       "11                                                       False                    \n",
       "12                                                       False                    \n",
       "13                                                       False                    \n",
       "14                                                        True                    \n",
       "15                                                        True                    \n",
       "16                                                       False                    \n",
       "17                                                       False                    \n",
       "18                                                       False                    \n",
       "19                                                       False                    \n",
       "20                                                       False                    \n",
       "21                                                        True                    \n",
       "22                                                        True                    \n",
       "23                                                       False                    \n",
       "24                                                       False                    \n",
       "\n",
       "policy       {'pump_capacity': 0, 'summer_target': -0.2, 'sluices_widening': 2}  \\\n",
       "scenario_id                                                                       \n",
       "0                                                         True                    \n",
       "1                                                         True                    \n",
       "2                                                         True                    \n",
       "3                                                         True                    \n",
       "4                                                        False                    \n",
       "5                                                        False                    \n",
       "6                                                        False                    \n",
       "7                                                         True                    \n",
       "8                                                         True                    \n",
       "9                                                         True                    \n",
       "10                                                        True                    \n",
       "11                                                       False                    \n",
       "12                                                       False                    \n",
       "13                                                       False                    \n",
       "14                                                        True                    \n",
       "15                                                        True                    \n",
       "16                                                        True                    \n",
       "17                                                        True                    \n",
       "18                                                       False                    \n",
       "19                                                       False                    \n",
       "20                                                       False                    \n",
       "21                                                        True                    \n",
       "22                                                        True                    \n",
       "23                                                        True                    \n",
       "24                                                        True                    \n",
       "\n",
       "policy       {'pump_capacity': 0, 'summer_target': 0.2, 'sluices_widening': 1}  \\\n",
       "scenario_id                                                                      \n",
       "0                                                         True                   \n",
       "1                                                         True                   \n",
       "2                                                         True                   \n",
       "3                                                         True                   \n",
       "4                                                        False                   \n",
       "5                                                        False                   \n",
       "6                                                        False                   \n",
       "7                                                         True                   \n",
       "8                                                         True                   \n",
       "9                                                         True                   \n",
       "10                                                       False                   \n",
       "11                                                       False                   \n",
       "12                                                       False                   \n",
       "13                                                       False                   \n",
       "14                                                        True                   \n",
       "15                                                        True                   \n",
       "16                                                        True                   \n",
       "17                                                       False                   \n",
       "18                                                       False                   \n",
       "19                                                       False                   \n",
       "20                                                       False                   \n",
       "21                                                        True                   \n",
       "22                                                        True                   \n",
       "23                                                        True                   \n",
       "24                                                       False                   \n",
       "\n",
       "policy       {'pump_capacity': 0, 'summer_target': 0.2, 'sluices_widening': 2}  \\\n",
       "scenario_id                                                                      \n",
       "0                                                         True                   \n",
       "1                                                         True                   \n",
       "2                                                         True                   \n",
       "3                                                         True                   \n",
       "4                                                         True                   \n",
       "5                                                         True                   \n",
       "6                                                        False                   \n",
       "7                                                         True                   \n",
       "8                                                         True                   \n",
       "9                                                         True                   \n",
       "10                                                        True                   \n",
       "11                                                        True                   \n",
       "12                                                       False                   \n",
       "13                                                       False                   \n",
       "14                                                        True                   \n",
       "15                                                        True                   \n",
       "16                                                        True                   \n",
       "17                                                        True                   \n",
       "18                                                        True                   \n",
       "19                                                       False                   \n",
       "20                                                       False                   \n",
       "21                                                        True                   \n",
       "22                                                        True                   \n",
       "23                                                        True                   \n",
       "24                                                        True                   \n",
       "\n",
       "policy       {'pump_capacity': 500, 'summer_target': -0.2, 'sluices_widening': 1}  \\\n",
       "scenario_id                                                                         \n",
       "0                                                         True                      \n",
       "1                                                         True                      \n",
       "2                                                         True                      \n",
       "3                                                         True                      \n",
       "4                                                         True                      \n",
       "5                                                         True                      \n",
       "6                                                         True                      \n",
       "7                                                         True                      \n",
       "8                                                         True                      \n",
       "9                                                         True                      \n",
       "10                                                        True                      \n",
       "11                                                        True                      \n",
       "12                                                        True                      \n",
       "13                                                        True                      \n",
       "14                                                        True                      \n",
       "15                                                        True                      \n",
       "16                                                        True                      \n",
       "17                                                        True                      \n",
       "18                                                        True                      \n",
       "19                                                        True                      \n",
       "20                                                       False                      \n",
       "21                                                        True                      \n",
       "22                                                        True                      \n",
       "23                                                        True                      \n",
       "24                                                        True                      \n",
       "\n",
       "policy       {'pump_capacity': 500, 'summer_target': -0.2, 'sluices_widening': 2}  \\\n",
       "scenario_id                                                                         \n",
       "0                                                         True                      \n",
       "1                                                         True                      \n",
       "2                                                         True                      \n",
       "3                                                         True                      \n",
       "4                                                         True                      \n",
       "5                                                         True                      \n",
       "6                                                         True                      \n",
       "7                                                         True                      \n",
       "8                                                         True                      \n",
       "9                                                         True                      \n",
       "10                                                        True                      \n",
       "11                                                        True                      \n",
       "12                                                        True                      \n",
       "13                                                       False                      \n",
       "14                                                        True                      \n",
       "15                                                        True                      \n",
       "16                                                        True                      \n",
       "17                                                        True                      \n",
       "18                                                        True                      \n",
       "19                                                        True                      \n",
       "20                                                       False                      \n",
       "21                                                        True                      \n",
       "22                                                        True                      \n",
       "23                                                        True                      \n",
       "24                                                        True                      \n",
       "\n",
       "policy       {'pump_capacity': 500, 'summer_target': 0.2, 'sluices_widening': 1}  \\\n",
       "scenario_id                                                                        \n",
       "0                                                         True                     \n",
       "1                                                         True                     \n",
       "2                                                         True                     \n",
       "3                                                         True                     \n",
       "4                                                         True                     \n",
       "5                                                         True                     \n",
       "6                                                         True                     \n",
       "7                                                         True                     \n",
       "8                                                         True                     \n",
       "9                                                         True                     \n",
       "10                                                        True                     \n",
       "11                                                        True                     \n",
       "12                                                        True                     \n",
       "13                                                        True                     \n",
       "14                                                        True                     \n",
       "15                                                        True                     \n",
       "16                                                        True                     \n",
       "17                                                        True                     \n",
       "18                                                        True                     \n",
       "19                                                        True                     \n",
       "20                                                        True                     \n",
       "21                                                        True                     \n",
       "22                                                        True                     \n",
       "23                                                        True                     \n",
       "24                                                        True                     \n",
       "\n",
       "policy       {'pump_capacity': 500, 'summer_target': 0.2, 'sluices_widening': 2}  \n",
       "scenario_id                                                                       \n",
       "0                                                         True                    \n",
       "1                                                         True                    \n",
       "2                                                         True                    \n",
       "3                                                         True                    \n",
       "4                                                         True                    \n",
       "5                                                         True                    \n",
       "6                                                         True                    \n",
       "7                                                         True                    \n",
       "8                                                         True                    \n",
       "9                                                         True                    \n",
       "10                                                        True                    \n",
       "11                                                        True                    \n",
       "12                                                        True                    \n",
       "13                                                        True                    \n",
       "14                                                        True                    \n",
       "15                                                        True                    \n",
       "16                                                        True                    \n",
       "17                                                        True                    \n",
       "18                                                        True                    \n",
       "19                                                        True                    \n",
       "20                                                        True                    \n",
       "21                                                        True                    \n",
       "22                                                        True                    \n",
       "23                                                        True                    \n",
       "24                                                        True                    "
      ]
     },
     "execution_count": 20,
     "metadata": {},
     "output_type": "execute_result"
    },
    {
     "ename": "NameError",
     "evalue": "name 'success_per_pathway' is not defined",
     "output_type": "error",
     "traceback": [
      "\u001b[0;31m---------------------------------------------------------------------------\u001b[0m",
      "\u001b[0;31mNameError\u001b[0m                                 Traceback (most recent call last)",
      "\u001b[0;32m<ipython-input-20-b1b2717d39d2>\u001b[0m in \u001b[0;36m<module>\u001b[0;34m()\u001b[0m\n\u001b[1;32m      1\u001b[0m \u001b[0msuccess_per_policy\u001b[0m\u001b[0;34m.\u001b[0m\u001b[0mhead\u001b[0m\u001b[0;34m(\u001b[0m\u001b[0;36m25\u001b[0m\u001b[0;34m)\u001b[0m\u001b[0;34m\u001b[0m\u001b[0m\n\u001b[0;32m----> 2\u001b[0;31m \u001b[0msuccess_per_pathway\u001b[0m\u001b[0;34m.\u001b[0m\u001b[0mhead\u001b[0m\u001b[0;34m(\u001b[0m\u001b[0;36m25\u001b[0m\u001b[0;34m)\u001b[0m\u001b[0;34m\u001b[0m\u001b[0m\n\u001b[0m",
      "\u001b[0;31mNameError\u001b[0m: name 'success_per_pathway' is not defined"
     ]
    }
   ],
   "source": [
    "success_per_policy.head(25)\n",
    "success_per_pathway.head(25)"
   ]
  },
  {
   "cell_type": "markdown",
   "metadata": {},
   "source": [
    "### Identify pathway success region by scenario discovery "
   ]
  },
  {
   "cell_type": "code",
   "execution_count": null,
   "metadata": {},
   "outputs": [],
   "source": [
    "success_per_policy.sum()\n",
    "success_per_pathway.sum()"
   ]
  },
  {
   "cell_type": "markdown",
   "metadata": {},
   "source": [
    "### Identify adaptation tipping point"
   ]
  },
  {
   "cell_type": "markdown",
   "metadata": {},
   "source": [
    "#### Use of Classification Tree (CART)"
   ]
  },
  {
   "cell_type": "code",
   "execution_count": null,
   "metadata": {},
   "outputs": [],
   "source": [
    "from sklearn import tree\n",
    "tree_decision = tree.DecisionTreeClassifier(criterion='gini',max_depth=3)"
   ]
  },
  {
   "cell_type": "code",
   "execution_count": null,
   "metadata": {},
   "outputs": [],
   "source": [
    "adaptation_tree={}\n",
    "features = {}\n",
    "thresholds = {}\n",
    "for policy in policies:\n",
    "    adaptation_tree[policy] = tree_decision.fit(scenarios_df,success_per_policy[policy])\n",
    "    features[policy] = adaptation_tree[policy].tree_.feature\n",
    "    thresholds[policy] = adaptation_tree[policy].tree_.threshold"
   ]
  },
  {
   "cell_type": "markdown",
   "metadata": {},
   "source": [
    "#### Use of Range Search (PRIM)"
   ]
  },
  {
   "cell_type": "code",
   "execution_count": null,
   "metadata": {},
   "outputs": [],
   "source": [
    "from ema_workbench.analysis import prim\n",
    "prim_classifier = lambda x, y: prim.Prim(x=x.to_records(index=False), y=y.values,threshold = 0.5)"
   ]
  },
  {
   "cell_type": "code",
   "execution_count": null,
   "metadata": {},
   "outputs": [],
   "source": [
    "x = scenarios_df.to_records(index=False)\n",
    "y = success_per_policy.iloc[:,pos].values"
   ]
  },
  {
   "cell_type": "code",
   "execution_count": null,
   "metadata": {},
   "outputs": [],
   "source": [
    "prim_alg = prim.Prim(x, y, threshold=0.999)\n",
    "#box1.show_tradeoff()"
   ]
  },
  {
   "cell_type": "code",
   "execution_count": null,
   "metadata": {},
   "outputs": [],
   "source": [
    "box1 = prim_alg.find_box()\n",
    "\n"
   ]
  },
  {
   "cell_type": "code",
   "execution_count": null,
   "metadata": {},
   "outputs": [],
   "source": [
    "box1.show_tradeoff()"
   ]
  },
  {
   "cell_type": "code",
   "execution_count": null,
   "metadata": {},
   "outputs": [],
   "source": [
    "box_id=None\n",
    "box_res = box1.inspect(box_id)\n",
    "box_res2 = box1.inspect(box_id,style='graph')\n"
   ]
  },
  {
   "cell_type": "code",
   "execution_count": null,
   "metadata": {},
   "outputs": [],
   "source": [
    "print(box_res)"
   ]
  },
  {
   "cell_type": "code",
   "execution_count": null,
   "metadata": {},
   "outputs": [],
   "source": [
    "box_res2"
   ]
  },
  {
   "cell_type": "code",
   "execution_count": null,
   "metadata": {},
   "outputs": [],
   "source": [
    "box.show_tradeoff()\n",
    "plt.show()"
   ]
  },
  {
   "cell_type": "code",
   "execution_count": null,
   "metadata": {},
   "outputs": [],
   "source": [
    "pos_i = 43\n",
    "box.inspect(pos_i)\n",
    "box.inspect(pos_i, style='graph')\n",
    "plt.show()"
   ]
  },
  {
   "cell_type": "code",
   "execution_count": null,
   "metadata": {},
   "outputs": [],
   "source": [
    "policy"
   ]
  },
  {
   "cell_type": "code",
   "execution_count": null,
   "metadata": {},
   "outputs": [],
   "source": [
    "scenarios_df.columns[features[policy]]"
   ]
  },
  {
   "cell_type": "code",
   "execution_count": null,
   "metadata": {},
   "outputs": [],
   "source": [
    "clf = adaptation_tree[policy]\n",
    "n_nodes = clf.tree_.node_count\n",
    "children_left = clf.tree_.children_left\n",
    "children_right = clf.tree_.children_right\n",
    "feature = clf.tree_.feature\n",
    "threshold = clf.tree_.threshold\n",
    "classes = clf.classes_\n",
    "n_cases = clf.tree_.weighted_n_node_samples"
   ]
  },
  {
   "cell_type": "code",
   "execution_count": null,
   "metadata": {},
   "outputs": [],
   "source": []
  },
  {
   "cell_type": "markdown",
   "metadata": {},
   "source": [
    "#### Features importance"
   ]
  },
  {
   "cell_type": "code",
   "execution_count": null,
   "metadata": {},
   "outputs": [],
   "source": []
  },
  {
   "cell_type": "code",
   "execution_count": null,
   "metadata": {},
   "outputs": [],
   "source": []
  },
  {
   "cell_type": "code",
   "execution_count": null,
   "metadata": {},
   "outputs": [],
   "source": [
    "feature_importance = pd.Series(clf.feature_importances_,index=scenarios_df.columns)\n",
    "feature_importance.plot(kind='barh',title='Feature Importance')"
   ]
  },
  {
   "cell_type": "markdown",
   "metadata": {},
   "source": [
    "### Rendering adaptation pathways\n",
    "#### Creating xml to be loaded within the [Pathways Generator](https://publicwiki.deltares.nl/display/AP/Pathways+Generator) by [Deltares](www.deltares/nl)"
   ]
  },
  {
   "cell_type": "code",
   "execution_count": null,
   "metadata": {},
   "outputs": [],
   "source": [
    "from pathways import create_patwhays_map"
   ]
  },
  {
   "cell_type": "code",
   "execution_count": null,
   "metadata": {},
   "outputs": [],
   "source": [
    "create_patwhays_map(actions+pathways)"
   ]
  },
  {
   "cell_type": "code",
   "execution_count": null,
   "metadata": {},
   "outputs": [],
   "source": []
  },
  {
   "cell_type": "code",
   "execution_count": null,
   "metadata": {},
   "outputs": [],
   "source": []
  },
  {
   "cell_type": "code",
   "execution_count": null,
   "metadata": {},
   "outputs": [],
   "source": []
  },
  {
   "cell_type": "code",
   "execution_count": null,
   "metadata": {},
   "outputs": [],
   "source": []
  },
  {
   "cell_type": "code",
   "execution_count": null,
   "metadata": {},
   "outputs": [],
   "source": []
  },
  {
   "cell_type": "code",
   "execution_count": null,
   "metadata": {},
   "outputs": [],
   "source": []
  },
  {
   "cell_type": "code",
   "execution_count": null,
   "metadata": {},
   "outputs": [],
   "source": []
  },
  {
   "cell_type": "code",
   "execution_count": null,
   "metadata": {},
   "outputs": [],
   "source": []
  },
  {
   "cell_type": "code",
   "execution_count": null,
   "metadata": {},
   "outputs": [],
   "source": []
  },
  {
   "cell_type": "code",
   "execution_count": null,
   "metadata": {},
   "outputs": [],
   "source": []
  },
  {
   "cell_type": "code",
   "execution_count": null,
   "metadata": {},
   "outputs": [],
   "source": [
    "import graphviz \n",
    "from graphviz_tree import *"
   ]
  },
  {
   "cell_type": "code",
   "execution_count": null,
   "metadata": {},
   "outputs": [],
   "source": [
    "test_new = False\n",
    "if test_new == True:\n",
    "    export_graphviz_func = export_graphviz_temp\n",
    "else:\n",
    "    export_graphviz_func = tree.export_graphviz"
   ]
  },
  {
   "cell_type": "code",
   "execution_count": null,
   "metadata": {},
   "outputs": [],
   "source": [
    "policies_names = []\n",
    "for policy in policy_success_ordinal.columns:\n",
    "    policies_names.append(policy.replace(',','\\n'))"
   ]
  },
  {
   "cell_type": "code",
   "execution_count": null,
   "metadata": {},
   "outputs": [],
   "source": [
    "class_names = list(policy_success_ordered.columns)\n",
    "class_names.append('None')\n",
    "class_names = [policy_name.replace(',','\\n') for policy_name in class_names ]"
   ]
  },
  {
   "cell_type": "code",
   "execution_count": null,
   "metadata": {},
   "outputs": [],
   "source": [
    "pathways = export_graphviz_func(clf, out_file=None, #max_depth=4,\n",
    "                                feature_names=scenarios_df.columns, \n",
    "                                class_names=class_names, \n",
    "                                filled=True,\n",
    "                                label = 'all',\n",
    "                                leaves_parallel =False,\n",
    "                                #node_ids=True,\n",
    "                                #rounded=True,\n",
    "                                #impurity = True, \n",
    "                                #proportion = True,\n",
    "                                rotate = True,\n",
    "                                precision = 3\n",
    "                                #,minimal_info=True\n",
    "                               )  \n",
    "pathways_rendered = graphviz.Source(pathways)\n",
    "pathways_rendered"
   ]
  },
  {
   "cell_type": "code",
   "execution_count": null,
   "metadata": {},
   "outputs": [],
   "source": [
    "\n",
    "cmap_name = 'my_list'\n",
    "for n_bin, ax in zip(n_bins, axs.ravel()):\n",
    "    # Create the colormap\n",
    "    cm = LinearSegmentedColormap.from_list(\n",
    "        cmap_name, colors, N=n_bin)\n",
    "    # Fewer bins will result in \"coarser\" colomap interpolation\n",
    "    im = ax.imshow(Z, interpolation='nearest', origin='lower', cmap=cm)\n",
    "    ax.set_title(\"N bins: %s\" % n_bin)\n",
    "    fig.colorbar(im)"
   ]
  },
  {
   "cell_type": "code",
   "execution_count": null,
   "metadata": {},
   "outputs": [],
   "source": [
    "import pylab as pl\n",
    "from matplotlib.colors import LinearSegmentedColormap\n",
    "\n",
    "\n",
    "max_cost = 340 * 1.3\n",
    "a = np.array([[0,max_cost]])\n",
    "pl.figure(figsize=(3, 10))\n",
    "\n",
    "colors = [(0, 0.7, 0),(0.7, 0, 0)]  # G -> R\n",
    "n_bins = 30\n",
    "color_map = LinearSegmentedColormap.from_list(cmap_name, colors, N=n_bins)\n",
    "img = pl.imshow(a, cmap=color_map)\n",
    "pl.gca().set_visible(False)\n",
    "cax = pl.axes([0, 1, 0.1, 1])\n",
    "pl.colorbar(cax=cax)\n",
    "plt.ylabel('Cost $[M- euro]$')\n",
    "pl.savefig(\"colorbar.pdf\")\n"
   ]
  },
  {
   "cell_type": "code",
   "execution_count": null,
   "metadata": {},
   "outputs": [],
   "source": [
    "cost_policy = 100\n",
    "color_for_policy = color_map(cost_policy/max_cost)[0:3]\n",
    "color_for_policy"
   ]
  },
  {
   "cell_type": "code",
   "execution_count": null,
   "metadata": {},
   "outputs": [],
   "source": [
    "from sklearn.datasets import load_iris\n",
    "iris = load_iris()\n",
    "clf_iris = tree.DecisionTreeClassifier()\n",
    "clf_iris.fit(iris.data, iris.target)\n"
   ]
  },
  {
   "cell_type": "code",
   "execution_count": null,
   "metadata": {},
   "outputs": [],
   "source": [
    "dot_data = tree.export_graphviz(clf, out_file=None, \n",
    "                         feature_names=iris.feature_names,  \n",
    "                         class_names=iris.target_names,  \n",
    "                         filled=True, rounded=True,  \n",
    "                         special_characters=True)  \n",
    "graph = graphviz.Source(dot_data)  \n",
    "graph "
   ]
  },
  {
   "cell_type": "code",
   "execution_count": null,
   "metadata": {},
   "outputs": [],
   "source": [
    "iris.target_names"
   ]
  },
  {
   "cell_type": "code",
   "execution_count": null,
   "metadata": {},
   "outputs": [],
   "source": [
    "# Parameters\n",
    "n_classes = 3\n",
    "plot_colors = \"ryb\"\n",
    "plot_step = 0.02\n",
    "\n",
    "# Load data\n",
    "from sklearn.datasets import load_iris\n",
    "\n",
    "\n",
    "iris = load_iris()\n",
    "\n",
    "plt.figure(figsize=(10,7))\n",
    "\n",
    "for pairidx, pair in enumerate([[0, 1], [0, 2], [0, 3],\n",
    "                                [1, 2], [1, 3], [2, 3]]):\n",
    "    # We only take the two corresponding features\n",
    "    X = iris.data[:, pair]\n",
    "    y = iris.target\n",
    "\n",
    "    # Train\n",
    "    clf = tree.DecisionTreeClassifier().fit(X, y)\n",
    "\n",
    "    # Plot the decision boundary\n",
    "    plt.subplot(2, 3, pairidx + 1)\n",
    "\n",
    "    x_min, x_max = X[:, 0].min() - 1, X[:, 0].max() + 1\n",
    "    y_min, y_max = X[:, 1].min() - 1, X[:, 1].max() + 1\n",
    "    xx, yy = np.meshgrid(np.arange(x_min, x_max, plot_step),\n",
    "                         np.arange(y_min, y_max, plot_step))\n",
    "    plt.tight_layout(h_pad=0.5, w_pad=0.5, pad=2.5)\n",
    "\n",
    "    Z = clf.predict(np.c_[xx.ravel(), yy.ravel()])\n",
    "    Z = Z.reshape(xx.shape)\n",
    "    cs = plt.contourf(xx, yy, Z, cmap=plt.cm.RdYlBu)\n",
    "\n",
    "    plt.xlabel(iris.feature_names[pair[0]])\n",
    "    plt.ylabel(iris.feature_names[pair[1]])\n",
    "\n",
    "    # Plot the training points\n",
    "    for i, color in zip(range(n_classes), plot_colors):\n",
    "        idx = np.where(y == i)\n",
    "        plt.scatter(X[idx, 0], X[idx, 1], c=color, label=iris.target_names[i],\n",
    "                    cmap=plt.cm.RdYlBu, edgecolor='black', s=15)\n",
    "        \n",
    "plt.suptitle(\"Decision surface of a decision tree using paired features\")\n",
    "plt.legend(loc=0)\n",
    "#plt.axis(\"tight\")"
   ]
  },
  {
   "cell_type": "code",
   "execution_count": null,
   "metadata": {},
   "outputs": [],
   "source": []
  },
  {
   "cell_type": "code",
   "execution_count": null,
   "metadata": {},
   "outputs": [],
   "source": []
  }
 ],
 "metadata": {
  "kernelspec": {
   "display_name": "Python [default]",
   "language": "python",
   "name": "python3"
  },
  "language_info": {
   "codemirror_mode": {
    "name": "ipython",
    "version": 3
   },
   "file_extension": ".py",
   "mimetype": "text/x-python",
   "name": "python",
   "nbconvert_exporter": "python",
   "pygments_lexer": "ipython3",
   "version": "3.5.6"
  }
 },
 "nbformat": 4,
 "nbformat_minor": 2
}
